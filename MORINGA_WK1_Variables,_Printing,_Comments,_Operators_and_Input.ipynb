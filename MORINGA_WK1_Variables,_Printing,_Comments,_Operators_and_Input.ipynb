{
  "nbformat": 4,
  "nbformat_minor": 0,
  "metadata": {
    "colab": {
      "provenance": [],
      "toc_visible": true,
      "authorship_tag": "ABX9TyPvw1gY3rLy3XSmAEc/im/3",
      "include_colab_link": true
    },
    "kernelspec": {
      "name": "python3",
      "display_name": "Python 3"
    },
    "language_info": {
      "name": "python"
    }
  },
  "cells": [
    {
      "cell_type": "markdown",
      "metadata": {
        "id": "view-in-github",
        "colab_type": "text"
      },
      "source": [
        "<a href=\"https://colab.research.google.com/github/lucysigadah/moringa-data-science/blob/main/MORINGA_WK1_Variables%2C_Printing%2C_Comments%2C_Operators_and_Input.ipynb\" target=\"_parent\"><img src=\"https://colab.research.google.com/assets/colab-badge.svg\" alt=\"Open In Colab\"/></a>"
      ]
    },
    {
      "cell_type": "markdown",
      "source": [
        "# STEP 1: PRINTING"
      ],
      "metadata": {
        "id": "sTvoo1hp1PF7"
      }
    },
    {
      "cell_type": "code",
      "execution_count": 1,
      "metadata": {
        "colab": {
          "base_uri": "https://localhost:8080/"
        },
        "id": "ZgCTRh2S0soj",
        "outputId": "463e2221-1372-4837-c038-235da06bb7e4"
      },
      "outputs": [
        {
          "output_type": "stream",
          "name": "stdout",
          "text": [
            "I just ran my first Python code\n"
          ]
        }
      ],
      "source": [
        "# Example 1\n",
        "#\n",
        "\n",
        "print(\"I just ran my first Python code\")"
      ]
    },
    {
      "cell_type": "markdown",
      "source": [
        "# CHALLENGES"
      ],
      "metadata": {
        "id": "Pdn_VmJe1q8y"
      }
    },
    {
      "cell_type": "code",
      "source": [
        "# Challenge 1:\n",
        "# Let's now print out your name in the console of this cell.\n",
        "# Replace the text \"OUR CODE GOES HERE\" with the code that you will write\n",
        "# and do likewise to the following examples.\n",
        "#\n",
        "\n",
        "print(\"My name is Lucy Keah Sigadah\")"
      ],
      "metadata": {
        "colab": {
          "base_uri": "https://localhost:8080/"
        },
        "id": "ztIKd6HN1RoZ",
        "outputId": "52b6b7d0-3b31-4a0a-fc99-d23f1fbe81e1"
      },
      "execution_count": null,
      "outputs": [
        {
          "output_type": "stream",
          "name": "stdout",
          "text": [
            "My name is Lucy Keah Sigadah\n"
          ]
        }
      ]
    },
    {
      "cell_type": "code",
      "source": [
        "# Challenge 2:\n",
        "# Let's print \"I am a Moringa Data Science Student\" below\n",
        "#\n",
        "\n",
        "print(\"I am a Moringa Data Science student\")"
      ],
      "metadata": {
        "colab": {
          "base_uri": "https://localhost:8080/"
        },
        "id": "ORtjOInb1zy_",
        "outputId": "887eed71-3cd0-4b0e-8206-e6fe47bd5866"
      },
      "execution_count": null,
      "outputs": [
        {
          "output_type": "stream",
          "name": "stdout",
          "text": [
            "I am a Moringa Data Science student\n"
          ]
        }
      ]
    },
    {
      "cell_type": "code",
      "source": [
        "# Challenge 3:\n",
        "# Print out the sum of 44 and 22 below\n",
        "# NB: We need to see 44 + 22 in our code\n",
        "#\n",
        "\n",
        "print(\"44 + 22\")\n",
        "print(\"66\")"
      ],
      "metadata": {
        "colab": {
          "base_uri": "https://localhost:8080/"
        },
        "id": "p6F2yKx818qD",
        "outputId": "f219b9ea-4d42-4754-9bd2-e784aae63407"
      },
      "execution_count": null,
      "outputs": [
        {
          "output_type": "stream",
          "name": "stdout",
          "text": [
            "44 + 22\n",
            "66\n"
          ]
        }
      ]
    },
    {
      "cell_type": "markdown",
      "source": [
        "# STEP 2: COMMENTS"
      ],
      "metadata": {
        "id": "fUvc1_Qj2PcC"
      }
    },
    {
      "cell_type": "code",
      "source": [
        "# Programmers and Data Scientists use comments to explain what their code means. These comments are acually pieces of code that do not get translated by the computer. We will use them as helpful messages that we leave within our code."
      ],
      "metadata": {
        "id": "ooXeaRxN2Lh2"
      },
      "execution_count": null,
      "outputs": []
    },
    {
      "cell_type": "markdown",
      "source": [
        "# STEP 3: VARIABLES"
      ],
      "metadata": {
        "id": "Laf8xGi_2fHS"
      }
    },
    {
      "cell_type": "code",
      "source": [
        "# This is simply a container that we can use to store a value.\n",
        "# Example 1\n",
        "# We store the value 10 in a variable p. In programming we say that \"we are assigning the value 10 to p\"\n",
        "# Running this cell won't output anything. Why? You can discuss this with your peer.\n",
        "# If you haven't figure it out, then go on to the next example and you'll know why\n",
        "#\n",
        "\n",
        "p = 10"
      ],
      "metadata": {
        "id": "AoNTJNL920WH"
      },
      "execution_count": null,
      "outputs": []
    },
    {
      "cell_type": "code",
      "source": [
        "# Example 2\n",
        "# So as to create a variable we use the equals sign; =, like in the example below.\n",
        "# This sign is usually regarded to what is called an assignment operator.\n",
        "# How do we say what is happening to 5 and x below? We've learned this in\n",
        "# the previous example.\n",
        "#\n",
        "\n",
        "x = 5\n",
        "\n",
        "# Because we have assigned the value 5 to x,\n",
        "# we now need to print out and see whether x has that value.\n",
        "# Lets print out x below this line using the print() function below\n",
        "#\n",
        "\n",
        "print(\"x = \", x)"
      ],
      "metadata": {
        "colab": {
          "base_uri": "https://localhost:8080/"
        },
        "id": "BwFLPBfy4ISE",
        "outputId": "6354fdb4-f0cc-44f5-82d5-561b257177c5"
      },
      "execution_count": null,
      "outputs": [
        {
          "output_type": "stream",
          "name": "stdout",
          "text": [
            "x =  5\n"
          ]
        }
      ]
    },
    {
      "cell_type": "code",
      "source": [
        "# Example 3\n",
        "# Nice, Work now on this challenge:\n",
        "# Create a savings variable with the value 1000\n",
        "#\n",
        "\n",
        "savings = 1000\n",
        "\n",
        "# Then print this savings variable below this line;\n",
        "\n",
        "print(\"savings = \", savings)"
      ],
      "metadata": {
        "colab": {
          "base_uri": "https://localhost:8080/"
        },
        "id": "HdVoTNms4Z4c",
        "outputId": "44e76ac2-223e-4bf8-d754-b2ace87dae7e"
      },
      "execution_count": null,
      "outputs": [
        {
          "output_type": "stream",
          "name": "stdout",
          "text": [
            "savings =  1000\n"
          ]
        }
      ]
    },
    {
      "cell_type": "code",
      "source": [
        "# Example 4\n",
        "# Now uncomment the below lines to print a,\n",
        "# then later uncomment b = 5 and later uncomment print(b)\n",
        "# Do note what happens\n",
        "#\n",
        "\n",
        "a = 10\n",
        "\n",
        "print(a)\n",
        "\n",
        "b = 5\n",
        "\n",
        "print(b)"
      ],
      "metadata": {
        "colab": {
          "base_uri": "https://localhost:8080/"
        },
        "id": "S_k-r3Uu4u3K",
        "outputId": "dbc2fd8d-c07d-4f80-b6b6-c6d6cbe459ba"
      },
      "execution_count": null,
      "outputs": [
        {
          "output_type": "stream",
          "name": "stdout",
          "text": [
            "10\n",
            "5\n"
          ]
        }
      ]
    },
    {
      "cell_type": "markdown",
      "source": [
        "# CHALLENGES"
      ],
      "metadata": {
        "id": "WAtpyJTv5QyG"
      }
    },
    {
      "cell_type": "code",
      "source": [
        "# Challenge 1\n",
        "# Assign the book Harry Potter and the Deathly Hollows to the variable author\n",
        "#\n",
        "\n",
        "author = 'Harry Potter and the Deathly Hollows'\n",
        "print(\"The author is:\", author)"
      ],
      "metadata": {
        "colab": {
          "base_uri": "https://localhost:8080/"
        },
        "id": "AmbeBTTd41FP",
        "outputId": "1eb1ae9d-a87a-4736-a6ab-8268283122f2"
      },
      "execution_count": null,
      "outputs": [
        {
          "output_type": "stream",
          "name": "stdout",
          "text": [
            "The author is: Harry Potter and the Deathly Hollows\n"
          ]
        }
      ]
    },
    {
      "cell_type": "code",
      "source": [
        "# Challenge 2\n",
        "# Fix the following code the run the cell\n",
        "#\n",
        "\n",
        "# \"Einstein\" = 7_quote\n",
        "\n",
        "quote_7 = 'Einstein'\n",
        "print(\"The value of the variable is \", quote_7)"
      ],
      "metadata": {
        "colab": {
          "base_uri": "https://localhost:8080/"
        },
        "id": "rt_6Uhk75hYk",
        "outputId": "63b40710-be6c-4144-ccbf-73eb3b1de979"
      },
      "execution_count": null,
      "outputs": [
        {
          "output_type": "stream",
          "name": "stdout",
          "text": [
            "The value of the variable is  Einstein\n"
          ]
        }
      ]
    },
    {
      "cell_type": "code",
      "source": [
        "# Challenge 3\n",
        "# Fix the following code the run the cell\n",
        "#\n",
        "# second number == 400;\n",
        "\n",
        "second_number = 400\n",
        "print(\"The value of the variable is:\", second_number)"
      ],
      "metadata": {
        "colab": {
          "base_uri": "https://localhost:8080/"
        },
        "id": "TgU0ji4s6kkv",
        "outputId": "809c5e06-4a09-47a0-b241-28d5bc7c4ebd"
      },
      "execution_count": null,
      "outputs": [
        {
          "output_type": "stream",
          "name": "stdout",
          "text": [
            "The value of the variable is: 400\n"
          ]
        }
      ]
    },
    {
      "cell_type": "markdown",
      "source": [
        "# STEP 4: OPERATORS"
      ],
      "metadata": {
        "id": "Vc_XT6XC7uDK"
      }
    },
    {
      "cell_type": "code",
      "source": [
        "# Example 1\n",
        "# In this section, we are going to use the variable a and b to perform\n",
        "# some arithmetic operations. Variable values or the variables from the above cell are retained\n",
        "# and can be used with the values that they were assigned to.\n",
        "# We will learn more about this when we run the lines below.\n",
        "# Let's run this cell once then\n",
        "# Uncomment the lines below to see the effect for multiplication, division and substraction\n",
        "#\n",
        "\n",
        "print(a + b)\n",
        "\n",
        "print(a * b)\n",
        "\n",
        "print(a / b)\n",
        "\n",
        "print(a - b)\n"
      ],
      "metadata": {
        "colab": {
          "base_uri": "https://localhost:8080/"
        },
        "id": "DbLN-yXt7p2v",
        "outputId": "6a1e6a90-e71d-42f0-d973-0db36f94f1d7"
      },
      "execution_count": null,
      "outputs": [
        {
          "output_type": "stream",
          "name": "stdout",
          "text": [
            "15\n",
            "50\n",
            "2.0\n",
            "5\n"
          ]
        }
      ]
    },
    {
      "cell_type": "code",
      "source": [
        "# Example 2\n",
        "# What would happen if we assigned the value of a + b to a.\n",
        "# Then try to come up with the answer in your mind\n",
        "# before uncommenting the line below;\n",
        "#\n",
        "\n",
        "a = a + b\n",
        "\n",
        "print(a)"
      ],
      "metadata": {
        "colab": {
          "base_uri": "https://localhost:8080/"
        },
        "id": "fT3TsRDb-T22",
        "outputId": "df37e076-553e-44a9-8fcd-f633d264a33e"
      },
      "execution_count": null,
      "outputs": [
        {
          "output_type": "stream",
          "name": "stdout",
          "text": [
            "15\n"
          ]
        }
      ]
    },
    {
      "cell_type": "code",
      "source": [
        "# Example 3\n",
        "# Nice. Now we will introduce a rather unfamiliar operator that we normally use in python.\n",
        "# This operator is called the increment operator\n",
        "#\n",
        "\n",
        "print(\"The value of a is:\", a)\n",
        "print(\"The value of b is:\", b)\n",
        "\n",
        "a += b\n",
        "\n",
        "print(a)\n",
        "\n",
        "# Try using the decrement operator below. The increment operator is -=\n",
        "\n",
        "a -= b\n",
        "\n",
        "print (a)"
      ],
      "metadata": {
        "colab": {
          "base_uri": "https://localhost:8080/"
        },
        "id": "6xWqNGJA-drc",
        "outputId": "6baee1f5-ec53-4822-ca4d-45087c504bdc"
      },
      "execution_count": null,
      "outputs": [
        {
          "output_type": "stream",
          "name": "stdout",
          "text": [
            "The value of a is: 15\n",
            "The value of b is: 5\n",
            "20\n",
            "15\n"
          ]
        }
      ]
    },
    {
      "cell_type": "code",
      "source": [
        "# Example 4\n",
        "# Lets uncomment the lines below to Exponentiation and then\n",
        "#\n",
        "\n",
        "print(18 % 7)\n",
        "print(4 ** 2)"
      ],
      "metadata": {
        "colab": {
          "base_uri": "https://localhost:8080/"
        },
        "id": "SQHgrguL-6Ri",
        "outputId": "ab86f5d5-9b10-400a-a88f-a08b09508da7"
      },
      "execution_count": null,
      "outputs": [
        {
          "output_type": "stream",
          "name": "stdout",
          "text": [
            "4\n",
            "16\n"
          ]
        }
      ]
    },
    {
      "cell_type": "markdown",
      "source": [
        "# CHALLENGES"
      ],
      "metadata": {
        "id": "t5ivybZ8BG3x"
      }
    },
    {
      "cell_type": "code",
      "source": [
        "# Challenge 1\n",
        "# Three persons have three notes of Ksh.50, Ksh.100 and Ksh.500.\n",
        "# Create three variables; person 1, person 2 and person 3 then\n",
        "# Find out the average of their money and display it below.\n",
        "#\n",
        "\n",
        "person1 = 50\n",
        "person2 = 100\n",
        "person3 = 500\n",
        "\n",
        "#METHOD 1\n",
        "# avg = (person1 + person2 + person3) / 3\n",
        "\n",
        "#METHOD 2\n",
        "#avg = (person1/3) + (person2/3) + (person3/3)\n",
        "\n",
        "#METHOD 3\n",
        "sum = person1 + person2 + person3\n",
        "avg = sum/3\n",
        "\n",
        "print(\"The average of the money is:\", avg)\n",
        "\n"
      ],
      "metadata": {
        "colab": {
          "base_uri": "https://localhost:8080/"
        },
        "id": "ianeBe61A-V0",
        "outputId": "d17d77ec-0671-4bb4-b236-024377c483ec"
      },
      "execution_count": null,
      "outputs": [
        {
          "output_type": "stream",
          "name": "stdout",
          "text": [
            "The average of the money is: 216.66666666666666\n"
          ]
        }
      ]
    },
    {
      "cell_type": "code",
      "source": [
        "# Challenge 2\n",
        "# An online shop sells designer jeans and t-shirts.\n",
        "# Each jeans costs Ksh. 4500 and t-shirt costs Ksh. 2500.\n",
        "# Calculate the cost below if you were to buy 3 pairs of jeans and 6 t-shirts\n",
        "# using variables and operators.\n",
        "#\n",
        "\n",
        "jeans = 4500\n",
        "tshirt = 2500\n",
        "jeans_total = jeans * 3\n",
        "tshirt_total = tshirt * 6\n",
        "total_cost = jeans_total + tshirt_total\n",
        "print(\"The total cost is:\", total_cost)"
      ],
      "metadata": {
        "colab": {
          "base_uri": "https://localhost:8080/"
        },
        "id": "vozCESD0BoNe",
        "outputId": "cab338d4-5f84-492d-d28b-2d1749e8688b"
      },
      "execution_count": null,
      "outputs": [
        {
          "output_type": "stream",
          "name": "stdout",
          "text": [
            "The total cost is: 28500\n"
          ]
        }
      ]
    },
    {
      "cell_type": "code",
      "source": [
        "# Challenge 3\n",
        "# We have Ksh 1000, which you invest with a 10% return each year.\n",
        "# After one year, it's 1000 × 1.1 = 1100 shillings, and after two years\n",
        "# it's 1000 × 1.1 × 1.1 = 121.\n",
        "# Now, write code below to calculate how much money\n",
        "# you would end up with after 7 years.\n",
        "# How much is your Ksh. 1000 worth after 15 years?\n",
        "# ----------\n",
        "# Hint: Instead of calculating with the actual values, you can use variables instead.\n",
        "# The savings variable you've created in the previous exercise represents the Ksh 1000 you started with.\n",
        "# It's up to you to create a new variable to represent 1.1 and then redo the calculations!\n",
        "# ----------\n",
        "\n",
        "# We can recreate the savings variable that we will use below\n",
        "#\n",
        "savings = 1000\n",
        "# and create a growth_multiplier variable that is equal to 1.1.\n",
        "# Then create a result variable and equal it to the amount of money you saved after 7 years.\n",
        "# Then print out the value of result below\n",
        "\n",
        "investment_capital = 1000\n",
        "growth_multiplier = (100 + 10)/100\n",
        "savings_7years = investment_capital * growth_multiplier**7\n",
        "print(\"The savings after 7 years will be:\", savings_7years)\n",
        "\n",
        "savings_15years = investment_capital * growth_multiplier**15\n",
        "print(\"The savings after 15 years will be:\", savings_15years)"
      ],
      "metadata": {
        "colab": {
          "base_uri": "https://localhost:8080/"
        },
        "id": "pXSlDXwbDp8b",
        "outputId": "f720f90b-3c46-493d-c516-4248661f7efe"
      },
      "execution_count": null,
      "outputs": [
        {
          "output_type": "stream",
          "name": "stdout",
          "text": [
            "The savings after 7 years will be: 1948.7171000000012\n",
            "The savings after 15 years will be: 4177.248169415656\n"
          ]
        }
      ]
    },
    {
      "cell_type": "markdown",
      "source": [
        "# STEP 5: INPUT"
      ],
      "metadata": {
        "id": "PlPtAbMJFl-3"
      }
    },
    {
      "cell_type": "code",
      "source": [
        "# Example 1\n",
        "# The input() function allows for user input as shown\n",
        "#\n",
        "g = input(\"Enter a number: \")\n",
        "\n",
        "print (g)\n",
        "\n",
        "g_as_integer = int(g)\n",
        "\n",
        "result = g_as_integer + 2\n",
        "\n",
        "print(result)"
      ],
      "metadata": {
        "colab": {
          "base_uri": "https://localhost:8080/"
        },
        "id": "RJeBncj_FNgz",
        "outputId": "7524945a-e504-48d0-9dc9-583e730f0c85"
      },
      "execution_count": null,
      "outputs": [
        {
          "output_type": "stream",
          "name": "stdout",
          "text": [
            "Enter a number: 10\n",
            "10\n",
            "12\n"
          ]
        }
      ]
    },
    {
      "cell_type": "code",
      "source": [
        "# Example 2\n",
        "# Lets get the sum of two numbers from a user's input\n",
        "#\n",
        "x = input('Enter the first number: ')\n",
        "y = input('Enter the second number: ')\n",
        "\n",
        "x_as_integer = int(x)\n",
        "y_as_integer = int(y)\n",
        "result = x_as_integer + y_as_integer\n",
        "print(result)"
      ],
      "metadata": {
        "colab": {
          "base_uri": "https://localhost:8080/"
        },
        "id": "cerA147lFyKt",
        "outputId": "aac8b7b4-9238-4017-8b0c-c1c7fca8393d"
      },
      "execution_count": null,
      "outputs": [
        {
          "output_type": "stream",
          "name": "stdout",
          "text": [
            "Enter the first number: 5\n",
            "Enter the second number: 7\n",
            "12\n"
          ]
        }
      ]
    },
    {
      "cell_type": "code",
      "source": [
        "# Example 3\n",
        "# Let's get the name and age of the user\n",
        "#\n",
        "\n",
        "# Prompting the user to tell us their name and displaying their name\n",
        "name = input(\"What's your name? \")\n",
        "print(\"Nice to meet you \" + name + \"!\")\n",
        "\n",
        "# Prompting the user to tell use their age\n",
        "age = input(\"Your age? \")\n",
        "\n",
        "# Displaying both their name and age\n",
        "# Hint: Try to remove str() and see what happens. We will learn more about datatype conversion later()\n",
        "#\n",
        "print(\"So, you are already \" + str(age) + \" years old, \" + name + \"!\")"
      ],
      "metadata": {
        "colab": {
          "base_uri": "https://localhost:8080/"
        },
        "id": "zw4UNTMRHG82",
        "outputId": "d7e8bead-9c9a-4aa7-db4b-0fe6ef9bca5c"
      },
      "execution_count": null,
      "outputs": [
        {
          "output_type": "stream",
          "name": "stdout",
          "text": [
            "What's your name? Keah\n",
            "Nice to meet you Keah!\n",
            "Your age? 16\n",
            "So, you are already 16 years old, Keah!\n"
          ]
        }
      ]
    },
    {
      "cell_type": "markdown",
      "source": [
        "# CHALLENGES"
      ],
      "metadata": {
        "id": "msoG17kTIIJH"
      }
    },
    {
      "cell_type": "code",
      "source": [
        "# Challenge 1\n",
        "# Many people around the world think about their height in feet and inches\n",
        "# even here in Africa where many countries use the metric system.\n",
        "# Write a program reads the height in metres then converts it to\n",
        "# feet and inches. The program should display the equivalent\n",
        "# height in feet and height.\n",
        "# NB: You can look up the necessary conversion factors on the web.\n",
        "#\n",
        "\n",
        "name = input(\"What is your name?\")\n",
        "print(\"Welcome, \" + name + \"!\")\n",
        "\n",
        "height = input(\"What is your height in metres?\")\n",
        "# 1 metre = 3.28084 feet\n",
        "# 1 metre = 39.3701 inches\n",
        "height_as_float = float(height)\n",
        "height_in_feet = height_as_float * 3.28084\n",
        "height_in_inches = height_as_float * 39.3701\n",
        "\n",
        "print(\"Hi, \" + name + \"!\" + \" The following is your height in feet: You are \" + str(height_in_feet) + \" feet tall.\")\n",
        "print(\"Hi, \" + name + \"!\" + \" The following is your height in inches: You are \" + str(height_in_inches) + \" inches tall.\")"
      ],
      "metadata": {
        "colab": {
          "base_uri": "https://localhost:8080/"
        },
        "id": "EjtCRXySHnaa",
        "outputId": "90f2e7f6-03f3-4f3a-e4c0-9b2ba63a3d68"
      },
      "execution_count": null,
      "outputs": [
        {
          "output_type": "stream",
          "name": "stdout",
          "text": [
            "What is your name?Lucy\n",
            "Welcome, Lucy!\n",
            "What is your height in metres?1.67\n",
            "Hi, Lucy! The following is your height in feet: You are 5.4790028 feet tall.\n",
            "Hi, Lucy! The following is your height in inches: You are 65.74806699999999 inches tall.\n"
          ]
        }
      ]
    },
    {
      "cell_type": "code",
      "source": [
        "# Challenge 2\n",
        "# Given a certain column of data that has radius, a data scientist would like\n",
        "# to compute the volume the respective cylinder and save the result to a new column.\n",
        "# Thus, write a program that reads the radius of cylinder, along with its height\n",
        "# from the user to calculate the volume in the console.\n",
        "#\n",
        "\n",
        "radius = input(\"Enter the radius: \")\n",
        "height = input(\"Enter the height: \")\n",
        "\n",
        "radius_as_float = float(radius)\n",
        "height_as_float = float(height)\n",
        "\n",
        "# Note that Pie = 3.14159\n",
        "pie = 3.14159\n",
        "# Also note that: Volume of a cylinder = pie * (radius ** 2) * height\n",
        "volume_cylinder = pie * (radius_as_float ** 2) * height_as_float\n",
        "\n",
        "print(\"The volume of the cylinder is: \" + str(volume_cylinder) + \" cubic metres.\")"
      ],
      "metadata": {
        "colab": {
          "base_uri": "https://localhost:8080/"
        },
        "id": "GO35S9RpInCt",
        "outputId": "5d39842f-228a-4f46-8518-ebb8a4bb5cd8"
      },
      "execution_count": null,
      "outputs": [
        {
          "output_type": "stream",
          "name": "stdout",
          "text": [
            "Enter the radius: 7\n",
            "Enter the height: 10\n",
            "The volume of the cylinder is: 1539.3790999999999 cubic metres.\n"
          ]
        }
      ]
    },
    {
      "cell_type": "code",
      "source": [
        "# Challenge 3\n",
        "# While paying for her parking fee of Ksh. 50 , Jane inserts a Note into\n",
        "# the paying machine and gets back her change.\n",
        "# Write a program that reads as input the note greater than Ksh. 200\n",
        "# and returns change in notes of 100 and 50.\n",
        "# Use the knowledge of variables to printing, comments, operators\n",
        "# and input to print the no of denominations given\n",
        "#"
      ],
      "metadata": {
        "id": "see9GyIINtZf"
      },
      "execution_count": null,
      "outputs": []
    }
  ]
}