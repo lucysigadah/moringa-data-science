{
  "nbformat": 4,
  "nbformat_minor": 0,
  "metadata": {
    "colab": {
      "provenance": [],
      "authorship_tag": "ABX9TyM/5OqPyGN2l4wtSH9odUpi",
      "include_colab_link": true
    },
    "kernelspec": {
      "name": "python3",
      "display_name": "Python 3"
    },
    "language_info": {
      "name": "python"
    }
  },
  "cells": [
    {
      "cell_type": "markdown",
      "metadata": {
        "id": "view-in-github",
        "colab_type": "text"
      },
      "source": [
        "<a href=\"https://colab.research.google.com/github/lucysigadah/moringa-data-science/blob/main/MORINGA_WK2_INDEPENDENT_PROJECT.ipynb\" target=\"_parent\"><img src=\"https://colab.research.google.com/assets/colab-badge.svg\" alt=\"Open In Colab\"/></a>"
      ]
    },
    {
      "cell_type": "markdown",
      "source": [
        "# PART 1: PYTHON PROGRAMMING"
      ],
      "metadata": {
        "id": "VWw8iWKEfCNF"
      }
    },
    {
      "cell_type": "markdown",
      "source": [
        "REQUIREMENTS:\n",
        "\n",
        "You will write python code that performs the following procedures\n",
        " 1. Delete a contact from the dictionary when the user specifies the its key\n",
        " 2. Print out the first 2 contacts.\n",
        " 3. Display the total no. of contacts left in the dictionary.\n",
        " 4. Add 2 new contacts in the dictionary.\n",
        " 5. Print out all the contacts."
      ],
      "metadata": {
        "id": "Dhbvk52zfb3y"
      }
    },
    {
      "cell_type": "code",
      "execution_count": 1,
      "metadata": {
        "id": "-5Y2Y9dbe72v",
        "colab": {
          "base_uri": "https://localhost:8080/"
        },
        "outputId": "d7fc9a92-7508-48d9-89b6-cacbff613fbc"
      },
      "outputs": [
        {
          "output_type": "stream",
          "name": "stdout",
          "text": [
            "{'Parul': 'parul@moringa.org', 'Thomas': 'thomas@moringa.org', 'Ashley': 'ashley@moringa.org', 'Kellen': 'kellen@moringa.org', 'June': 'june@moringa.org', 'Joseph': 'joe@moringa.org', 'Lillian': 'lillian@moringa.org', 'Arnold': 'arnold@moringa.org'}\n"
          ]
        }
      ],
      "source": [
        "contact_book = {'Parul' : 'parul@moringa.org',\n",
        " 'Thomas' : 'thomas@moringa.org',\n",
        " 'Ashley' : 'ashley@moringa.org',\n",
        " 'Kellen' : 'kellen@moringa.org',\n",
        " 'June' : 'june@moringa.org',\n",
        " 'Joseph' : 'joe@moringa.org',\n",
        " 'Lillian' : 'lillian@moringa.org',\n",
        " 'Arnold' : 'arnold@moringa.org'\n",
        "}\n",
        "\n",
        "print(contact_book)"
      ]
    },
    {
      "cell_type": "code",
      "source": [
        "# 1. Delete a contact from the dictionary when the user specifies the its key\n",
        "\n",
        "del contact_book['Parul']\n",
        "print(contact_book)\n"
      ],
      "metadata": {
        "colab": {
          "base_uri": "https://localhost:8080/"
        },
        "id": "BQnnkoAm0Umq",
        "outputId": "98bb42f3-56f6-4fe2-8d4d-e865a85de4b4"
      },
      "execution_count": 2,
      "outputs": [
        {
          "output_type": "stream",
          "name": "stdout",
          "text": [
            "{'Thomas': 'thomas@moringa.org', 'Ashley': 'ashley@moringa.org', 'Kellen': 'kellen@moringa.org', 'June': 'june@moringa.org', 'Joseph': 'joe@moringa.org', 'Lillian': 'lillian@moringa.org', 'Arnold': 'arnold@moringa.org'}\n"
          ]
        }
      ]
    },
    {
      "cell_type": "code",
      "source": [
        "# 2. Print out the first 2 contacts\n",
        "\n",
        "contact_list = list(contact_book.items())\n",
        "print(contact_list[:2])\n"
      ],
      "metadata": {
        "colab": {
          "base_uri": "https://localhost:8080/"
        },
        "id": "sdwW8fNW0rLO",
        "outputId": "b05df56b-372c-4f14-ec56-3da755281d5b"
      },
      "execution_count": 6,
      "outputs": [
        {
          "output_type": "stream",
          "name": "stdout",
          "text": [
            "[('Thomas', 'thomas@moringa.org'), ('Ashley', 'ashley@moringa.org')]\n"
          ]
        }
      ]
    },
    {
      "cell_type": "code",
      "source": [
        "# 3. Display the total no. of contacts left in the dictionary\n",
        "\n",
        "print(len(contact_list))"
      ],
      "metadata": {
        "colab": {
          "base_uri": "https://localhost:8080/"
        },
        "id": "eblqi0YL1Dah",
        "outputId": "b5c452b8-8ba6-4fc6-f02d-6f67537b4bdc"
      },
      "execution_count": 8,
      "outputs": [
        {
          "output_type": "stream",
          "name": "stdout",
          "text": [
            "7\n"
          ]
        }
      ]
    },
    {
      "cell_type": "code",
      "source": [
        "#4. Add 2 new contacts in the dictionary\n",
        "\n",
        "contact_book['Lucy'] = 'lucysigadah@gmail.com'\n",
        "contact_book['Judith'] = 'judithosewe@gmail.com'\n",
        "print(contact_book)"
      ],
      "metadata": {
        "colab": {
          "base_uri": "https://localhost:8080/"
        },
        "id": "4Pd0tfRu1_xY",
        "outputId": "6c8ca346-feeb-41f3-a872-708c2c89cc6f"
      },
      "execution_count": 9,
      "outputs": [
        {
          "output_type": "stream",
          "name": "stdout",
          "text": [
            "{'Thomas': 'thomas@moringa.org', 'Ashley': 'ashley@moringa.org', 'Kellen': 'kellen@moringa.org', 'June': 'june@moringa.org', 'Joseph': 'joe@moringa.org', 'Lillian': 'lillian@moringa.org', 'Arnold': 'arnold@moringa.org', 'Lucy': 'lucysigadah@gmail.com', 'Judith': 'judithosewe@gmail.com'}\n"
          ]
        }
      ]
    },
    {
      "cell_type": "code",
      "source": [
        "# New number of items in the dictionary\n",
        "print(len(contact_book))"
      ],
      "metadata": {
        "colab": {
          "base_uri": "https://localhost:8080/"
        },
        "id": "3g3bZDOi2cPp",
        "outputId": "7deafb53-c382-430e-848a-42f6b8572768"
      },
      "execution_count": 11,
      "outputs": [
        {
          "output_type": "stream",
          "name": "stdout",
          "text": [
            "9\n"
          ]
        }
      ]
    },
    {
      "cell_type": "code",
      "source": [
        "# 5. Print out all the contacts\n",
        "\n",
        "print(contact_book)"
      ],
      "metadata": {
        "colab": {
          "base_uri": "https://localhost:8080/"
        },
        "id": "soIM7tGG2iCm",
        "outputId": "45e8c456-b340-46fb-83a3-d8b4f600b693"
      },
      "execution_count": 12,
      "outputs": [
        {
          "output_type": "stream",
          "name": "stdout",
          "text": [
            "{'Thomas': 'thomas@moringa.org', 'Ashley': 'ashley@moringa.org', 'Kellen': 'kellen@moringa.org', 'June': 'june@moringa.org', 'Joseph': 'joe@moringa.org', 'Lillian': 'lillian@moringa.org', 'Arnold': 'arnold@moringa.org', 'Lucy': 'lucysigadah@gmail.com', 'Judith': 'judithosewe@gmail.com'}\n"
          ]
        }
      ]
    },
    {
      "cell_type": "markdown",
      "source": [
        "# PART 2: SQL PROGRAMMING"
      ],
      "metadata": {
        "id": "AbGqc_W42zVx"
      }
    },
    {
      "cell_type": "code",
      "source": [
        "# We will first load the sql extension into our environment\n",
        "%load_ext sql\n",
        "\n",
        "# Then connect to our in memory sqlite database\n",
        "# NB: This database will cease to exist as soon as the database connection is closed.\n",
        "%sql sqlite://"
      ],
      "metadata": {
        "id": "8P6P4kt12vKo"
      },
      "execution_count": 13,
      "outputs": []
    },
    {
      "cell_type": "code",
      "source": [
        "# Importing Pandas\n",
        "import pandas as pd"
      ],
      "metadata": {
        "id": "5VYLqm_x5LSW"
      },
      "execution_count": 14,
      "outputs": []
    },
    {
      "cell_type": "code",
      "source": [
        "# Loading our Cities dataset\n",
        "\n",
        "with open('/content/GrandElectors_by_state.csv', 'r') as f:\n",
        "  GrandElectors = pd.read_csv(f, index_col=0, encoding='utf-8')\n",
        "%sql DROP TABLE if EXISTS GrandElectors;\n",
        "%sql PERSIST GrandElectors;\n",
        "%sql SELECT * FROM GrandElectors LIMIT 5;"
      ],
      "metadata": {
        "colab": {
          "base_uri": "https://localhost:8080/"
        },
        "id": "1RoFryWE5Np0",
        "outputId": "71d58f45-aa9a-49ae-9909-1e455f3642ee"
      },
      "execution_count": 15,
      "outputs": [
        {
          "output_type": "stream",
          "name": "stdout",
          "text": [
            " * sqlite://\n",
            "Done.\n",
            " * sqlite://\n",
            "(sqlite3.OperationalError) near \"PERSIST\": syntax error\n",
            "[SQL: PERSIST GrandElectors;]\n",
            "(Background on this error at: https://sqlalche.me/e/20/e3q8)\n",
            " * sqlite://\n",
            "(sqlite3.OperationalError) no such table: GrandElectors\n",
            "[SQL: SELECT * FROM GrandElectors LIMIT 5;]\n",
            "(Background on this error at: https://sqlalche.me/e/20/e3q8)\n"
          ]
        }
      ]
    },
    {
      "cell_type": "code",
      "source": [
        "import pandas as pd\n",
        "import sqlite3\n",
        "from sqlalchemy import create_engine\n",
        "\n",
        "# Step 1: Load the CSV into a Pandas DataFrame\n",
        "try:\n",
        "    with open('/content/GrandElectors_by_state.csv', 'r') as f:\n",
        "        GrandElectors = pd.read_csv(f, index_col=0, encoding='utf-8')\n",
        "    print(\"DataFrame loaded successfully:\")\n",
        "    print(GrandElectors.head())\n",
        "except Exception as e:\n",
        "    print(f\"Error loading CSV: {e}\")\n",
        "    raise\n",
        "\n",
        "# Step 2: Connect to an in-memory SQLite database\n",
        "conn = sqlite3.connect(':memory:')\n",
        "print(\"Connected to in-memory SQLite database\")\n",
        "\n",
        "# Step 3: Write the DataFrame to an SQLite table\n",
        "try:\n",
        "    GrandElectors.to_sql('GrandElectors', conn, if_exists='replace', index=True)\n",
        "    print(\"Table 'GrandElectors' created successfully\")\n",
        "except Exception as e:\n",
        "    print(f\"Error creating table: {e}\")\n",
        "    raise\n",
        "\n",
        "# Step 4: Verify the table exists\n",
        "tables = pd.read_sql(\"SELECT name FROM sqlite_master WHERE type='table';\", conn)\n",
        "print(\"Tables in database:\", tables)\n",
        "\n",
        "# Step 5: Create a SQLAlchemy engine for the in-memory database\n",
        "engine = create_engine('sqlite://', creator=lambda: conn)\n",
        "print(\"SQLAlchemy engine created for in-memory database\")\n",
        "\n",
        "# Step 6: Set %sql to use the SQLAlchemy engine\n",
        "%sql {engine.url}\n",
        "print(\"Set %sql to in-memory database via SQLAlchemy\")\n",
        "\n",
        "# Step 7: Query the table\n",
        "%sql SELECT * FROM GrandElectors LIMIT 5;"
      ],
      "metadata": {
        "colab": {
          "base_uri": "https://localhost:8080/"
        },
        "id": "Qj7C0Jvd5jgB",
        "outputId": "5700c771-b113-4314-aa02-45233f4f15ad"
      },
      "execution_count": 25,
      "outputs": [
        {
          "output_type": "stream",
          "name": "stdout",
          "text": [
            "DataFrame loaded successfully:\n",
            "            GrandElectors\n",
            "State                    \n",
            "Alabama                 9\n",
            "Alaska                  3\n",
            "Arizona                11\n",
            "Arkansas                6\n",
            "California             55\n",
            "Connected to in-memory SQLite database\n",
            "Table 'GrandElectors' created successfully\n",
            "Tables in database:             name\n",
            "0  GrandElectors\n",
            "SQLAlchemy engine created for in-memory database\n",
            "Set %sql to in-memory database via SQLAlchemy\n",
            " * sqlite://\n",
            "   sqlite:///:memory:\n",
            "(sqlite3.OperationalError) no such table: GrandElectors\n",
            "[SQL: SELECT * FROM GrandElectors LIMIT 5;]\n",
            "(Background on this error at: https://sqlalche.me/e/20/e3q8)\n"
          ]
        }
      ]
    },
    {
      "cell_type": "code",
      "source": [
        "# Loading our Cities dataset\n",
        "#\n",
        "with open('/content/Population_by_state.csv', 'r') as f:\n",
        "  Population = pd.read_csv(f, index_col=0, encoding='utf-8')\n",
        "%sql DROP TABLE if EXISTS Population;\n",
        "%sql PERSIST Population;\n",
        "%sql SELECT * FROM Population LIMIT 5;"
      ],
      "metadata": {
        "colab": {
          "base_uri": "https://localhost:8080/"
        },
        "id": "Cng4B01M6Ov5",
        "outputId": "3a9fb16d-dc63-4711-c0c3-2a85f0798551"
      },
      "execution_count": 26,
      "outputs": [
        {
          "output_type": "stream",
          "name": "stdout",
          "text": [
            " * sqlite://\n",
            "   sqlite:///:memory:\n",
            "Done.\n",
            " * sqlite://\n",
            "   sqlite:///:memory:\n",
            "(sqlite3.OperationalError) near \"PERSIST\": syntax error\n",
            "[SQL: PERSIST Population;]\n",
            "(Background on this error at: https://sqlalche.me/e/20/e3q8)\n",
            " * sqlite://\n",
            "   sqlite:///:memory:\n",
            "(sqlite3.OperationalError) no such table: Population\n",
            "[SQL: SELECT * FROM Population LIMIT 5;]\n",
            "(Background on this error at: https://sqlalche.me/e/20/e3q8)\n"
          ]
        }
      ]
    },
    {
      "cell_type": "code",
      "source": [
        "# 1. Join the 2 tables\n",
        "# You notice States are not capitalized the same way in both tables (one is in uppercase\n",
        "# letters, the other not), so you will first need to convert all to uppercase, for instance\n",
        "\n",
        "%sql\n",
        "SELECT lower('State') AS lower_case_state FROM Population\n",
        "\n",
        "%sql\n",
        "SELECT lower('State') AS upper_case_state FROM GrandElectors"
      ],
      "metadata": {
        "colab": {
          "base_uri": "https://localhost:8080/",
          "height": 106
        },
        "id": "sKfpujyIBedf",
        "outputId": "5bc27169-2b49-42f3-ec90-6d46bfc13366"
      },
      "execution_count": 28,
      "outputs": [
        {
          "output_type": "error",
          "ename": "SyntaxError",
          "evalue": "invalid syntax (ipython-input-28-43679356.py, line 6)",
          "traceback": [
            "\u001b[0;36m  File \u001b[0;32m\"/tmp/ipython-input-28-43679356.py\"\u001b[0;36m, line \u001b[0;32m6\u001b[0m\n\u001b[0;31m    SELECT lower('State') AS lower_case_state FROM Population\u001b[0m\n\u001b[0m           ^\u001b[0m\n\u001b[0;31mSyntaxError\u001b[0m\u001b[0;31m:\u001b[0m invalid syntax\n"
          ]
        }
      ]
    },
    {
      "cell_type": "code",
      "source": [],
      "metadata": {
        "id": "cOWFhm2oCqJU"
      },
      "execution_count": null,
      "outputs": []
    }
  ]
}