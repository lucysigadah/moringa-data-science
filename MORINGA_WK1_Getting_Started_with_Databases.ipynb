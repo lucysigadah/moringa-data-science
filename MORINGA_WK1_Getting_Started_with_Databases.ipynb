{
  "nbformat": 4,
  "nbformat_minor": 0,
  "metadata": {
    "colab": {
      "provenance": [],
      "toc_visible": true,
      "authorship_tag": "ABX9TyO27kctMKJhoyTGHImun5BH",
      "include_colab_link": true
    },
    "kernelspec": {
      "name": "python3",
      "display_name": "Python 3"
    },
    "language_info": {
      "name": "python"
    }
  },
  "cells": [
    {
      "cell_type": "markdown",
      "metadata": {
        "id": "view-in-github",
        "colab_type": "text"
      },
      "source": [
        "<a href=\"https://colab.research.google.com/github/lucysigadah/moringa-data-science/blob/main/MORINGA_WK1_Getting_Started_with_Databases.ipynb\" target=\"_parent\"><img src=\"https://colab.research.google.com/assets/colab-badge.svg\" alt=\"Open In Colab\"/></a>"
      ]
    },
    {
      "cell_type": "markdown",
      "source": [
        "# STEP 1: CONNECT TO THE DATABASE"
      ],
      "metadata": {
        "id": "Mw5XwJUmTLGc"
      }
    },
    {
      "cell_type": "code",
      "execution_count": 4,
      "metadata": {
        "id": "q3nlAQ34S6pL",
        "colab": {
          "base_uri": "https://localhost:8080/"
        },
        "outputId": "10dd582a-6f1f-4254-a717-f3d25fd65da0"
      },
      "outputs": [
        {
          "output_type": "stream",
          "name": "stdout",
          "text": [
            "The sql extension is already loaded. To reload it, use:\n",
            "  %reload_ext sql\n"
          ]
        }
      ],
      "source": [
        "# We will first load an sql extension into our environment\n",
        "# This extension will allow us to work with sql on Colaboratory\n",
        "\n",
        "%load_ext sql\n",
        "\n",
        "# We will then connect to our in memory sqlite database\n",
        "# NB: This database will cease to exist as soon as the database connection is closed.\n",
        "# We will learn more about how databases are created later in prep.\n",
        "\n",
        "%sql sqlite://"
      ]
    },
    {
      "cell_type": "markdown",
      "source": [
        "# STEP 2: CREATING A TABLE"
      ],
      "metadata": {
        "id": "E8AEY0_BTstS"
      }
    },
    {
      "cell_type": "code",
      "source": [
        "# Example 1\n",
        "# We will now define and create a table Classmates in our database (if it doesn't exist).\n",
        "# This table will have fields: PersonID, LastName, FirstName, Phone and Residence as shown below.\n",
        "# We will then fetch all records from the table.\n",
        "\n",
        "%%sql\n",
        "SET sql.display.style = 'single_border';\n",
        "CREATE TABLE if not exists Classmates(\n",
        "  PersonId,\n",
        "  LastName,\n",
        "  FirstName,\n",
        "  Phone,\n",
        "  Residence\n",
        ");\n",
        "\n",
        "SELECT * FROM Classmates;"
      ],
      "metadata": {
        "colab": {
          "base_uri": "https://localhost:8080/"
        },
        "id": "Qu6YlIueTP30",
        "outputId": "065c7585-f511-425b-b43d-e7a6c7208505"
      },
      "execution_count": 5,
      "outputs": [
        {
          "output_type": "stream",
          "name": "stdout",
          "text": [
            " * sqlite://\n",
            "(sqlite3.OperationalError) near \"SET\": syntax error\n",
            "[SQL: SET sql.display.style = 'single_border';]\n",
            "(Background on this error at: https://sqlalche.me/e/20/e3q8)\n"
          ]
        }
      ]
    },
    {
      "cell_type": "code",
      "source": [
        "# Example 2\n",
        "# In this example, we will create a table named Customers\n",
        "# with the columns Id, Name, Age, Address, Salary.\n",
        "# This kind of a table structure can be used by Sacco Management system.\n",
        "# Then later fetch all records in the table.\n",
        "\n",
        "%%sql\n",
        "SET sql.display.style = 'single_border';\n",
        "CREATE TABLE if not exists Customers(\n",
        "  Id,\n",
        "  Name,\n",
        "  Age,\n",
        "  Address,\n",
        "  Salary\n",
        ");\n",
        "\n",
        "SELECT * FROM Customers;"
      ],
      "metadata": {
        "colab": {
          "base_uri": "https://localhost:8080/"
        },
        "id": "QXowjgGRVITM",
        "outputId": "c5802361-9379-4c70-ede6-bb04d52826b5"
      },
      "execution_count": 6,
      "outputs": [
        {
          "output_type": "stream",
          "name": "stdout",
          "text": [
            " * sqlite://\n",
            "(sqlite3.OperationalError) near \"SET\": syntax error\n",
            "[SQL: SET sql.display.style = 'single_border';]\n",
            "(Background on this error at: https://sqlalche.me/e/20/e3q8)\n"
          ]
        }
      ]
    },
    {
      "cell_type": "code",
      "source": [
        "# Example 3\n",
        "# In this example, we will create a Students table for a student management system.\n",
        "# This will contain the following fields,\n",
        "# AdmissionsNo, FirstName, MiddleName, LastName, DateOfBirth and DateOfAdmission.\n",
        "# Then fetch all records from Students table.\n",
        "\n",
        "%%sql\n",
        "SET sql.display.style = 'single_border';\n",
        "CREATE TABLE if not exixts Students(\n",
        "  AdmissionsNo,\n",
        "  FirstName,\n",
        "  MiddleName,\n",
        "  LastName,\n",
        "  DateOfbirth,\n",
        "  DateOfAdmission\n",
        ");\n",
        "\n",
        "SELECT * FROM Students;"
      ],
      "metadata": {
        "colab": {
          "base_uri": "https://localhost:8080/"
        },
        "id": "wj1cxSmsVChO",
        "outputId": "3fb91bc4-fa30-41cb-c30c-fb9fcd4feb64"
      },
      "execution_count": 7,
      "outputs": [
        {
          "output_type": "stream",
          "name": "stdout",
          "text": [
            " * sqlite://\n",
            "(sqlite3.OperationalError) near \"SET\": syntax error\n",
            "[SQL: SET sql.display.style = 'single_border';]\n",
            "(Background on this error at: https://sqlalche.me/e/20/e3q8)\n"
          ]
        }
      ]
    },
    {
      "cell_type": "markdown",
      "source": [
        "# CHALLENGES"
      ],
      "metadata": {
        "id": "nIkI_HvCX6Fn"
      }
    },
    {
      "cell_type": "code",
      "source": [
        "# Challenge 1\n",
        "# Let us create a table name PC with the following fields;\n",
        "# Code, model, speed, RAM, HD, CD and Price.\n",
        "# We also specify the appropriate data types to our table, then display it.\n",
        "#\n",
        "\n",
        "%%sql\n",
        "SET sql.display.style = 'single_border';\n",
        "CREATE TABLE if not exists PC(\n",
        "  Code varchar(255),\n",
        "  Model varchar(255),\n",
        "  Speed int,\n",
        "  RAM int,\n",
        "  HD int,\n",
        "  CD varchar(255),\n",
        "  Price int\n",
        ");\n",
        "\n",
        "SELECT * FROM PC;\n"
      ],
      "metadata": {
        "colab": {
          "base_uri": "https://localhost:8080/"
        },
        "id": "nHLCvcm_XP6n",
        "outputId": "fac2384a-8a37-4755-dd23-eadaa0336dc0"
      },
      "execution_count": 8,
      "outputs": [
        {
          "output_type": "stream",
          "name": "stdout",
          "text": [
            " * sqlite://\n",
            "(sqlite3.OperationalError) near \"SET\": syntax error\n",
            "[SQL: SET sql.display.style = 'single_border';]\n",
            "(Background on this error at: https://sqlalche.me/e/20/e3q8)\n"
          ]
        }
      ]
    },
    {
      "cell_type": "code",
      "source": [
        "# Challenge 2\n",
        "# Let us create a table named Printer with\n",
        "# the following code, model, speed, type and Price.\n",
        "\n",
        "%%sql\n",
        "SET sql.display.style = 'single_border';\n",
        "CREATE TABLE if not exists Printer(\n",
        "  Code,\n",
        "  Model,\n",
        "  Speed,\n",
        "  Type,\n",
        "  price\n",
        ");"
      ],
      "metadata": {
        "colab": {
          "base_uri": "https://localhost:8080/"
        },
        "id": "vNDjTicZYvej",
        "outputId": "1afca6bb-0b7c-4e46-9b8d-91d00757b4a9"
      },
      "execution_count": 9,
      "outputs": [
        {
          "output_type": "stream",
          "name": "stdout",
          "text": [
            " * sqlite://\n",
            "(sqlite3.OperationalError) near \"SET\": syntax error\n",
            "[SQL: SET sql.display.style = 'single_border';]\n",
            "(Background on this error at: https://sqlalche.me/e/20/e3q8)\n"
          ]
        }
      ]
    },
    {
      "cell_type": "code",
      "source": [
        "# Challenge 3\n",
        "# We can now write another table called Movies with the columns\n",
        "# id, title, director, year and length_minutes\n",
        "\n",
        "%%sql\n",
        "SET sql.display.style = 'single_border';\n",
        "CREATE TABLE if not exists Movies(\n",
        "    Id,\n",
        "    Title,\n",
        "    Director,\n",
        "    Year,\n",
        "    Length_minutes\n",
        ");"
      ],
      "metadata": {
        "colab": {
          "base_uri": "https://localhost:8080/"
        },
        "id": "cHibTXtmZQi8",
        "outputId": "efa98d6e-3065-433a-bd9b-677a723e653c"
      },
      "execution_count": 10,
      "outputs": [
        {
          "output_type": "stream",
          "name": "stdout",
          "text": [
            " * sqlite://\n",
            "(sqlite3.OperationalError) near \"SET\": syntax error\n",
            "[SQL: SET sql.display.style = 'single_border';]\n",
            "(Background on this error at: https://sqlalche.me/e/20/e3q8)\n"
          ]
        }
      ]
    },
    {
      "cell_type": "markdown",
      "source": [
        "# STEP 3: SPECIFYING COLUMN DATA TYPES"
      ],
      "metadata": {
        "id": "lL0q_cPoZrfe"
      }
    },
    {
      "cell_type": "code",
      "source": [
        "# While defining our table, we should specify different data types.\n",
        "# These datatypes will ensure that the particular column stores only\n",
        "# records of that type i.e. The NationalID column in the defined Citizens table\n",
        "# below will only take integer values. These are values between  -2,147,483,648 to 2,147,483,647.\n",
        "# If one would require to store much smaller or bigger values than the range above then\n",
        "# they can use a different datatype i.e. tinyint or bigint.\n",
        "# The datatype varchar will hold letters and numbers upto the specified limit\n",
        "# in the brackets.\n",
        "\n",
        "%%sql\n",
        "SET sql.display.style = 'single_border';\n",
        "CREATE TABLE if not exists Citizens(\n",
        "  NationalID int,\n",
        "  FirstName varchar(255),\n",
        "  MiddleName varchar(255),\n",
        "  LastName varchar(255),\n",
        "  PostalAddress varchar(2550),\n",
        "  Residence varchar(255)\n",
        ");\n",
        "\n",
        "SELECT * FROM Citizens;"
      ],
      "metadata": {
        "colab": {
          "base_uri": "https://localhost:8080/"
        },
        "id": "NKJSJWw7ZlaW",
        "outputId": "187e9c01-321a-4447-9171-68d3f479c4b4"
      },
      "execution_count": 11,
      "outputs": [
        {
          "output_type": "stream",
          "name": "stdout",
          "text": [
            " * sqlite://\n",
            "(sqlite3.OperationalError) near \"SET\": syntax error\n",
            "[SQL: SET sql.display.style = 'single_border';]\n",
            "(Background on this error at: https://sqlalche.me/e/20/e3q8)\n"
          ]
        }
      ]
    },
    {
      "cell_type": "code",
      "source": [
        "# Specifying column data types will ensure that\n",
        "# the data that is stored within that table of the correct type.\n",
        "# The data type date would ensure that the data stored is in the format YYYY-MM-DD.\n",
        "# The data type boolean supports the storage of two values: TRUE or FALSE.\n",
        "# No other data of a different nature would be accepted to the table\n",
        "# than the one it was specified to have.\n",
        "\n",
        "%%sql\n",
        "SET sql.display.style = 'single_border';\n",
        "CREATE TABLE if not exists Artists(\n",
        "  Artist_ID int,\n",
        "  ArtistName varchar(60),\n",
        "  Artist_DOB date,\n",
        "  Posters_In_Stock boolean\n",
        ");\n",
        "\n",
        "SELCT * FROM Artists;\n"
      ],
      "metadata": {
        "colab": {
          "base_uri": "https://localhost:8080/"
        },
        "id": "qQy6SPcAbVUX",
        "outputId": "46b55b6b-8980-469e-bd06-88b64bd59b47"
      },
      "execution_count": 12,
      "outputs": [
        {
          "output_type": "stream",
          "name": "stdout",
          "text": [
            " * sqlite://\n",
            "(sqlite3.OperationalError) near \"SET\": syntax error\n",
            "[SQL: SET sql.display.style = 'single_border';]\n",
            "(Background on this error at: https://sqlalche.me/e/20/e3q8)\n"
          ]
        }
      ]
    },
    {
      "cell_type": "code",
      "source": [
        "# The data type text accepts upto 2,147,483,647 characters\n",
        "# The data type float accepts floating point numbers i.e 183.3 as shown\n",
        "#\n",
        "\n",
        "%%sql\n",
        "SET sql.display.style = 'single_border';\n",
        "CREATE TABLE if not exists Players(\n",
        "  id int,\n",
        "  name text,\n",
        "  age integer,\n",
        "  height float\n",
        "  );\n",
        "\n",
        "  SELECT * FROM Players;"
      ],
      "metadata": {
        "colab": {
          "base_uri": "https://localhost:8080/"
        },
        "id": "oUVr1mJZdK2W",
        "outputId": "d0708f36-4b5e-4d74-d523-f4944cf8abc6"
      },
      "execution_count": 13,
      "outputs": [
        {
          "output_type": "stream",
          "name": "stdout",
          "text": [
            " * sqlite://\n",
            "(sqlite3.OperationalError) near \"SET\": syntax error\n",
            "[SQL: SET sql.display.style = 'single_border';]\n",
            "(Background on this error at: https://sqlalche.me/e/20/e3q8)\n"
          ]
        }
      ]
    },
    {
      "cell_type": "markdown",
      "source": [
        "# CHALLENGES"
      ],
      "metadata": {
        "id": "u6rq-VL8eWkD"
      }
    },
    {
      "cell_type": "code",
      "source": [
        "# Challenge 1\n",
        "# Let's create a table customer with CustID with datatype Integer, LastName\n",
        "# with datatype character(25), FirstName with datatype Character(20)\n",
        "#\n",
        "\n",
        "%%sql\n",
        "SET sql.display.style = 'single_border';\n",
        "CREATE TABLE IF NOT EXISTS customer (\n",
        "    CustID INT,\n",
        "    LastName VARCHAR(25),\n",
        "    FirstName VARCHAR(20)\n",
        ");"
      ],
      "metadata": {
        "id": "E09yfuAj53CL"
      },
      "execution_count": null,
      "outputs": []
    },
    {
      "cell_type": "code",
      "source": [
        "# Challenge 2\n",
        "# Create a table called sales that stores sales ID, customer ID, name, and address information.\n",
        "# using also the appropriate data types\n",
        "#\n",
        "\n",
        "%%sql\n",
        "SET sql.display.style = 'single_border';\n",
        "CREATE TABLE if not exists sales(\n",
        "  salesID int,\n",
        "  customerID varchar(255),\n",
        "  name varchar(255),\n",
        "  address varchar(255)\n",
        ");"
      ],
      "metadata": {
        "colab": {
          "base_uri": "https://localhost:8080/"
        },
        "id": "8R2AkYKle6Eo",
        "outputId": "c6e3156e-e369-41ea-ae0a-bf920d635c1c"
      },
      "execution_count": 15,
      "outputs": [
        {
          "output_type": "stream",
          "name": "stdout",
          "text": [
            " * sqlite://\n",
            "(sqlite3.OperationalError) near \"SET\": syntax error\n",
            "[SQL: SET sql.display.style = 'single_border';]\n",
            "(Background on this error at: https://sqlalche.me/e/20/e3q8)\n"
          ]
        }
      ]
    },
    {
      "cell_type": "code",
      "source": [
        "# Challenge 3\n",
        "# Create a table called employees that stores employee number, employee name,\n",
        "# department, and salary information using appropriate data types\n",
        "#\n",
        "\n",
        "%%sql\n",
        "SET sql.display.style = 'single_border';\n",
        "CREATE TABLE if not exists employees(\n",
        "  employeeNumber int,\n",
        "  employeeName varchar(255),\n",
        "  department text,\n",
        "  salary int,\n",
        ");"
      ],
      "metadata": {
        "colab": {
          "base_uri": "https://localhost:8080/"
        },
        "id": "yK8AHyr4fakx",
        "outputId": "8430ed49-5cb1-4331-854c-51761d9c50f8"
      },
      "execution_count": 16,
      "outputs": [
        {
          "output_type": "stream",
          "name": "stdout",
          "text": [
            " * sqlite://\n",
            "(sqlite3.OperationalError) near \"SET\": syntax error\n",
            "[SQL: SET sql.display.style = 'single_border';]\n",
            "(Background on this error at: https://sqlalche.me/e/20/e3q8)\n"
          ]
        }
      ]
    },
    {
      "cell_type": "markdown",
      "source": [
        "# STEP 4: SPECIFYING COLUMN DEFAULT VALUES"
      ],
      "metadata": {
        "id": "s8ytB8Z_htRR"
      }
    },
    {
      "cell_type": "code",
      "source": [
        "# To specify column default values, let's define a table named artists\n",
        "# which contains three columns artist_id, artist_name and place_of_birth.\n",
        "# - artist_id will be of the type int\n",
        "# - artist_name of the type varchar(60)\n",
        "# - place_of_birth varchar(60) with default 'Unknown'.\n",
        "# NB: Changing the case of our data type definition will not have any effect.\n",
        "#\n",
        "\n",
        "%%sql\n",
        "SET sql.display.style = 'single_border';\n",
        "CREATE TABLE if not exists Artists(\n",
        "  ArtistID int,\n",
        "  ArtistName varchar(60),\n",
        "  PlaceOfBirth varchar(60) DEFAULT 'Unknown'\n",
        ");"
      ],
      "metadata": {
        "colab": {
          "base_uri": "https://localhost:8080/"
        },
        "id": "2TEybFhOf_tj",
        "outputId": "c58779a7-07ff-47fa-96bd-218a809c6606"
      },
      "execution_count": 17,
      "outputs": [
        {
          "output_type": "stream",
          "name": "stdout",
          "text": [
            " * sqlite://\n",
            "(sqlite3.OperationalError) near \"SET\": syntax error\n",
            "[SQL: SET sql.display.style = 'single_border';]\n",
            "(Background on this error at: https://sqlalche.me/e/20/e3q8)\n"
          ]
        }
      ]
    },
    {
      "cell_type": "code",
      "source": [
        "# To specify default values for the fields in a new table TeamMembers,\n",
        "# We do the following as shown below.\n",
        "#\n",
        "\n",
        "%%sql\n",
        "SET sql.display.style = 'single_border';\n",
        "CREATE TABLE if not exists TeamMembers(\n",
        "  id INTEGER  PRIMARY KEY,\n",
        "  name TEXT,\n",
        "  age INTEGER DEFAULT 'Unknown',\n",
        "  height REAL\n",
        ");"
      ],
      "metadata": {
        "colab": {
          "base_uri": "https://localhost:8080/"
        },
        "id": "o8HEHfMVjaM_",
        "outputId": "c7cf5562-38cd-4fae-8cf3-35e323420290"
      },
      "execution_count": 18,
      "outputs": [
        {
          "output_type": "stream",
          "name": "stdout",
          "text": [
            " * sqlite://\n",
            "(sqlite3.OperationalError) near \"SET\": syntax error\n",
            "[SQL: SET sql.display.style = 'single_border';]\n",
            "(Background on this error at: https://sqlalche.me/e/20/e3q8)\n"
          ]
        }
      ]
    },
    {
      "cell_type": "markdown",
      "source": [
        "# CHALLENGES"
      ],
      "metadata": {
        "id": "JLVgwkKPkJr4"
      }
    },
    {
      "cell_type": "code",
      "source": [
        "# Challenge 1\n",
        "# Let's create a new table called latest_players with similar fields to\n",
        "# the already created Players table but specify the default value to unknown\n",
        "#\n",
        "\n",
        "%%sql\n",
        "SET sql.display.style = 'single_border';\n",
        "CREATE TABLE if not exists latest_players(\n",
        "  id int,\n",
        "  name text,\n",
        "  age int DEFAULT 'Unknown',\n",
        "  height float\n",
        ");"
      ],
      "metadata": {
        "colab": {
          "base_uri": "https://localhost:8080/"
        },
        "id": "1OZXfMGdkBGC",
        "outputId": "1c218400-5c4e-4cab-e772-d1cab3c29fff"
      },
      "execution_count": 19,
      "outputs": [
        {
          "output_type": "stream",
          "name": "stdout",
          "text": [
            " * sqlite://\n",
            "(sqlite3.OperationalError) near \"SET\": syntax error\n",
            "[SQL: SET sql.display.style = 'single_border';]\n",
            "(Background on this error at: https://sqlalche.me/e/20/e3q8)\n"
          ]
        }
      ]
    },
    {
      "cell_type": "code",
      "source": [
        "# Challenge 2\n",
        "# Let's create a new table called restaurants with the fields\n",
        "# - name: string\n",
        "# - description: text\n",
        "# - address: string, default value is unknown\n",
        "# - user_id: integer\n",
        "# - last_orders_at: date\n",
        "# We can perform data type external research if need be\n",
        "#\n",
        "\n",
        "%%sql\n",
        "SET sql.display.style = 'single_border';\n",
        "CREATE TABLE if not exists restaurants(\n",
        "  name string,\n",
        "  description text,\n",
        "  address string DEFAULT 'Unknown',\n",
        "  user_id int,\n",
        "  last_order_at date\n",
        ");"
      ],
      "metadata": {
        "colab": {
          "base_uri": "https://localhost:8080/"
        },
        "id": "4f-Of16lkPjd",
        "outputId": "40380d19-af8c-469e-bfc4-22afcbfc7212"
      },
      "execution_count": 20,
      "outputs": [
        {
          "output_type": "stream",
          "name": "stdout",
          "text": [
            " * sqlite://\n",
            "(sqlite3.OperationalError) near \"SET\": syntax error\n",
            "[SQL: SET sql.display.style = 'single_border';]\n",
            "(Background on this error at: https://sqlalche.me/e/20/e3q8)\n"
          ]
        }
      ]
    },
    {
      "cell_type": "markdown",
      "source": [
        "# STEP 5: ALTERING SQL TABLES"
      ],
      "metadata": {
        "id": "BRkIEkSOkTJ3"
      }
    },
    {
      "cell_type": "code",
      "source": [
        "# Example 1: Adding a Column\n",
        "# To add a column Gender to the Classmates table, we do the following,\n",
        "# then preview the table to see the changes\n",
        "#\n",
        "\n",
        "%%sql\n",
        "SET sql.display.style = 'single_border';\n",
        "ALTER TABLE Classmates ADD COLUMN Gender;\n",
        "\n",
        "SELECT * FROM Classmates;"
      ],
      "metadata": {
        "colab": {
          "base_uri": "https://localhost:8080/"
        },
        "id": "m-UpVVXhkWtA",
        "outputId": "135dc761-ef5b-4f21-edb8-b12a71a1fe9d"
      },
      "execution_count": 21,
      "outputs": [
        {
          "output_type": "stream",
          "name": "stdout",
          "text": [
            " * sqlite://\n",
            "(sqlite3.OperationalError) near \"SET\": syntax error\n",
            "[SQL: SET sql.display.style = 'single_border';]\n",
            "(Background on this error at: https://sqlalche.me/e/20/e3q8)\n"
          ]
        }
      ]
    },
    {
      "cell_type": "code",
      "source": [
        "# Example 2: Deleting a Column\n",
        "# To delete a column Phone in a table above we do the following,\n",
        "# Then fetch records from the table to confirm the changes\n",
        "#\n",
        "\n",
        "%%sql\n",
        "SET sql.display.style = 'single_border';\n",
        "ALTER TABLE Classmates DROP COLUMN Residence;"
      ],
      "metadata": {
        "colab": {
          "base_uri": "https://localhost:8080/"
        },
        "id": "P-GryF8voBHZ",
        "outputId": "3d6ee7b7-bfc8-4dc0-f406-5289c4bbcbad"
      },
      "execution_count": 22,
      "outputs": [
        {
          "output_type": "stream",
          "name": "stdout",
          "text": [
            " * sqlite://\n",
            "(sqlite3.OperationalError) near \"SET\": syntax error\n",
            "[SQL: SET sql.display.style = 'single_border';]\n",
            "(Background on this error at: https://sqlalche.me/e/20/e3q8)\n"
          ]
        }
      ]
    },
    {
      "cell_type": "code",
      "source": [
        "# Example 3\n",
        "# We can change the name of the Classmates table to Schoolmates by doing the following,\n",
        "# Then fetching the records from the table to confirm the changes\n",
        "#\n",
        "\n",
        "%%sql\n",
        "SET sql.display.style = 'single_border';\n",
        "ALTER TABLE Classmates RENAME TO Schoolmates;\n",
        "\n",
        "SELECT * FROM Schoolmates;"
      ],
      "metadata": {
        "colab": {
          "base_uri": "https://localhost:8080/"
        },
        "id": "j1tY0qOZpL89",
        "outputId": "f78ec584-0d03-43e9-aaeb-93c1c6cece9b"
      },
      "execution_count": 23,
      "outputs": [
        {
          "output_type": "stream",
          "name": "stdout",
          "text": [
            " * sqlite://\n",
            "(sqlite3.OperationalError) near \"SET\": syntax error\n",
            "[SQL: SET sql.display.style = 'single_border';]\n",
            "(Background on this error at: https://sqlalche.me/e/20/e3q8)\n"
          ]
        }
      ]
    },
    {
      "cell_type": "markdown",
      "source": [
        "# CHALLENGES"
      ],
      "metadata": {
        "id": "06JHP58ypq3H"
      }
    },
    {
      "cell_type": "code",
      "source": [
        "# Challenge 1\n",
        "# We can add a column DOB with the data type DATE to the TeamMembers table by;\n",
        "# Hint: The data type comes after the column name\n",
        "#\n",
        "\n",
        "%%sql\n",
        "SET sql.display.style = 'single_border';\n",
        "ALTER TABLE TeamMembers ADD COLUMN DOB date;\n",
        "\n",
        "SELECT * FROM TeamMembers;"
      ],
      "metadata": {
        "colab": {
          "base_uri": "https://localhost:8080/"
        },
        "id": "m5WSl53Cpju4",
        "outputId": "373cd41f-276c-4b5c-dce3-6b3820acedc0"
      },
      "execution_count": 24,
      "outputs": [
        {
          "output_type": "stream",
          "name": "stdout",
          "text": [
            " * sqlite://\n",
            "(sqlite3.OperationalError) near \"SET\": syntax error\n",
            "[SQL: SET sql.display.style = 'single_border';]\n",
            "(Background on this error at: https://sqlalche.me/e/20/e3q8)\n"
          ]
        }
      ]
    },
    {
      "cell_type": "code",
      "source": [
        "# Challenge 2\n",
        "# Let's now add a column STUDIO with the data type TEXT to the Artists table\n",
        "#\n",
        "\n",
        "%%sql\n",
        "SET sql.display.style = 'single_border';\n",
        "ALTER TABLE Artists ADD COLUMN Studio text;\n",
        "\n",
        "SELCT * FROM Artists;"
      ],
      "metadata": {
        "colab": {
          "base_uri": "https://localhost:8080/"
        },
        "id": "XK3xRRQjsLdv",
        "outputId": "3edb8352-d0d4-4bee-ad3f-56573cc62431"
      },
      "execution_count": 25,
      "outputs": [
        {
          "output_type": "stream",
          "name": "stdout",
          "text": [
            " * sqlite://\n",
            "(sqlite3.OperationalError) near \"SET\": syntax error\n",
            "[SQL: SET sql.display.style = 'single_border';]\n",
            "(Background on this error at: https://sqlalche.me/e/20/e3q8)\n"
          ]
        }
      ]
    },
    {
      "cell_type": "code",
      "source": [
        "# Challenge 3\n",
        "# We then rename the table Artists to MusicArtists\n",
        "#\n",
        "\n",
        "%%sql\n",
        "SET sql.display.style = 'single_border';\n",
        "ALTER TABLE Artists RENAME TO MusicArtists;\n",
        "\n",
        "SELECT * FROM MusicArtists;"
      ],
      "metadata": {
        "colab": {
          "base_uri": "https://localhost:8080/"
        },
        "id": "e4b1eF4dsL0V",
        "outputId": "cfb1b744-1dda-4b91-e04c-6cf06aeb4fe5"
      },
      "execution_count": 26,
      "outputs": [
        {
          "output_type": "stream",
          "name": "stdout",
          "text": [
            " * sqlite://\n",
            "(sqlite3.OperationalError) near \"SET\": syntax error\n",
            "[SQL: SET sql.display.style = 'single_border';]\n",
            "(Background on this error at: https://sqlalche.me/e/20/e3q8)\n"
          ]
        }
      ]
    },
    {
      "cell_type": "markdown",
      "source": [
        "# STEP 6: DROPPING SQL TABLES"
      ],
      "metadata": {
        "id": "Wr5ns_64puUd"
      }
    },
    {
      "cell_type": "markdown",
      "source": [
        "## TRUNCATING A TABLE"
      ],
      "metadata": {
        "id": "tL5fnhSAs5K6"
      }
    },
    {
      "cell_type": "code",
      "source": [
        "# We may have two options while thinking about dropping (deleting) database tables.\n",
        "# These are truncating or dropping.\n",
        "# We can use the TRUNCATE TABLE statement to delete the data inside\n",
        "# our table as shown below. Do note that this command retains the table itself.\n",
        "# We will get to confirm the effect of using this command later when we get\n",
        "# to insert data to the table.\n",
        "\n",
        "%%sql\n",
        "SET sql.display.style = 'single_border';\n",
        "TRUNCATE TABLE Classmates;"
      ],
      "metadata": {
        "colab": {
          "base_uri": "https://localhost:8080/"
        },
        "id": "VOaUh6o-sKL7",
        "outputId": "092af926-c269-4528-a46b-5a6c9df6c2c5"
      },
      "execution_count": 27,
      "outputs": [
        {
          "output_type": "stream",
          "name": "stdout",
          "text": [
            " * sqlite://\n",
            "(sqlite3.OperationalError) near \"SET\": syntax error\n",
            "[SQL: SET sql.display.style = 'single_border';]\n",
            "(Background on this error at: https://sqlalche.me/e/20/e3q8)\n"
          ]
        }
      ]
    },
    {
      "cell_type": "markdown",
      "source": [
        "## DROPPING A TABLE"
      ],
      "metadata": {
        "id": "0QUJIDebtcyd"
      }
    },
    {
      "cell_type": "code",
      "source": [
        "# We can drop our table by using the DROP TABLE statement as shown below\n",
        "#\n",
        "\n",
        "%%sql\n",
        "SET sql.display.style = 'single_border';\n",
        "DROP TABLE Classmates;"
      ],
      "metadata": {
        "colab": {
          "base_uri": "https://localhost:8080/"
        },
        "id": "bIk2PpYhp0wh",
        "outputId": "ee73481f-d17a-4dc4-bdaf-cf9d64667c60"
      },
      "execution_count": 28,
      "outputs": [
        {
          "output_type": "stream",
          "name": "stdout",
          "text": [
            " * sqlite://\n",
            "(sqlite3.OperationalError) near \"SET\": syntax error\n",
            "[SQL: SET sql.display.style = 'single_border';]\n",
            "(Background on this error at: https://sqlalche.me/e/20/e3q8)\n"
          ]
        }
      ]
    },
    {
      "cell_type": "markdown",
      "source": [
        "# CHALLENGES"
      ],
      "metadata": {
        "id": "R5mJu985tudQ"
      }
    },
    {
      "cell_type": "code",
      "source": [
        "# Challenge 1\n",
        "# Lets drop the Players table from our database\n",
        "#\n",
        "\n",
        "%%sql\n",
        "SET sql.display.style = 'single_border';\n",
        "DROP TABLE Players;"
      ],
      "metadata": {
        "colab": {
          "base_uri": "https://localhost:8080/"
        },
        "id": "K3W6BIHBtphw",
        "outputId": "24775e58-d8ff-466e-9ad3-9201ce3a1df9"
      },
      "execution_count": 29,
      "outputs": [
        {
          "output_type": "stream",
          "name": "stdout",
          "text": [
            " * sqlite://\n",
            "(sqlite3.OperationalError) near \"SET\": syntax error\n",
            "[SQL: SET sql.display.style = 'single_border';]\n",
            "(Background on this error at: https://sqlalche.me/e/20/e3q8)\n"
          ]
        }
      ]
    },
    {
      "cell_type": "code",
      "source": [
        "# Challenge 2\n",
        "# Lets drop the Customers table from our database\n",
        "#\n",
        "\n",
        "%%sql\n",
        "SET sql.display.style = 'single_border';\n",
        "DROP TABLE Customers"
      ],
      "metadata": {
        "colab": {
          "base_uri": "https://localhost:8080/"
        },
        "id": "Qh_gXu-it9Ja",
        "outputId": "89769230-ab07-46e5-a450-8ee0719e9bf7"
      },
      "execution_count": 30,
      "outputs": [
        {
          "output_type": "stream",
          "name": "stdout",
          "text": [
            " * sqlite://\n",
            "(sqlite3.OperationalError) near \"SET\": syntax error\n",
            "[SQL: SET sql.display.style = 'single_border';]\n",
            "(Background on this error at: https://sqlalche.me/e/20/e3q8)\n"
          ]
        }
      ]
    },
    {
      "cell_type": "code",
      "source": [
        "# Challenge 3\n",
        "# And finally truncate and drop our Artists table from our database\n",
        "#\n",
        "\n",
        "%%sql\n",
        "SET sql.display.style = 'single_border';\n",
        "TRUNCATE TABLE Artists;\n",
        "DROP TABLE Artists;"
      ],
      "metadata": {
        "colab": {
          "base_uri": "https://localhost:8080/"
        },
        "id": "4ATF6briuQe5",
        "outputId": "62d495fa-7a42-4ef6-cd98-d265c3d3a3ed"
      },
      "execution_count": 31,
      "outputs": [
        {
          "output_type": "stream",
          "name": "stdout",
          "text": [
            " * sqlite://\n",
            "(sqlite3.OperationalError) near \"SET\": syntax error\n",
            "[SQL: SET sql.display.style = 'single_border';]\n",
            "(Background on this error at: https://sqlalche.me/e/20/e3q8)\n"
          ]
        }
      ]
    },
    {
      "cell_type": "code",
      "source": [],
      "metadata": {
        "id": "32uiTr3ByfSu"
      },
      "execution_count": 31,
      "outputs": []
    }
  ]
}