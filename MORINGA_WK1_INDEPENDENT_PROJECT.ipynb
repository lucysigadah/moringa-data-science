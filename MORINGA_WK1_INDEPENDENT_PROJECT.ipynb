{
  "nbformat": 4,
  "nbformat_minor": 0,
  "metadata": {
    "colab": {
      "provenance": [],
      "toc_visible": true,
      "authorship_tag": "ABX9TyOu5sDRvPoOekCFoGgX9HEA",
      "include_colab_link": true
    },
    "kernelspec": {
      "name": "python3",
      "display_name": "Python 3"
    },
    "language_info": {
      "name": "python"
    }
  },
  "cells": [
    {
      "cell_type": "markdown",
      "metadata": {
        "id": "view-in-github",
        "colab_type": "text"
      },
      "source": [
        "<a href=\"https://colab.research.google.com/github/lucysigadah/moringa-data-science/blob/main/MORINGA_WK1_INDEPENDENT_PROJECT.ipynb\" target=\"_parent\"><img src=\"https://colab.research.google.com/assets/colab-badge.svg\" alt=\"Open In Colab\"/></a>"
      ]
    },
    {
      "cell_type": "markdown",
      "source": [
        "# PART 2: PYTHON PROGRAMMING"
      ],
      "metadata": {
        "id": "raomJfWJx7aR"
      }
    },
    {
      "cell_type": "markdown",
      "source": [
        "REQUIREMENTS:\n",
        "\n",
        " 1. Take in two values from a user (both in pounds) then convert those values to kilograms.\n",
        "\n",
        " 2. Perform the sum of the values.\n",
        "\n",
        " 3. Perform the average of the values.\n",
        "\n",
        " 4. Find the difference between both values.  \n",
        "\n",
        " 5. Find the quotient when one value is divided by the other.\n",
        "\n",
        " 6. Determine and print out whether any of the numbers are even or add.\n",
        "\n",
        " 7. Have comments applied appropriately."
      ],
      "metadata": {
        "id": "EOB48_YPyBEu"
      }
    },
    {
      "cell_type": "code",
      "execution_count": null,
      "metadata": {
        "id": "2fLKcL-yvtnH",
        "colab": {
          "base_uri": "https://localhost:8080/"
        },
        "outputId": "8e46d73b-ef15-4c5b-d42c-b3c68d00044e"
      },
      "outputs": [
        {
          "output_type": "stream",
          "name": "stdout",
          "text": [
            "Enter the weight of the first sack in pounds: 40\n",
            "Enter the weight of the second sack in pounds: 35\n",
            "The weight of the first sack in kilograms is:  18.144\n",
            "The weight of the second sack in kilograms is:  15.876\n"
          ]
        }
      ],
      "source": [
        "# Take in two values from a user (both in pounds) then convert those values to kilograms\n",
        "\n",
        "weight_sack1 = float(input(\"Enter the weight of the first sack in pounds: \"))\n",
        "weight_sack2 = float(input(\"Enter the weight of the second sack in pounds: \"))\n",
        "\n",
        "# Weight conversion from pounds to kg\n",
        "# 1 pound = 0.453592\n",
        "\n",
        "weight_sack1_kg = weight_sack1 * 0.453592\n",
        "weight_sack2_kg = weight_sack2 * 0.453592\n",
        "\n",
        "print(\"The weight of the first sack in kilograms is: \", round(weight_sack1_kg, 3))\n",
        "print(\"The weight of the second sack in kilograms is: \", round(weight_sack2_kg, 3))"
      ]
    },
    {
      "cell_type": "code",
      "source": [
        "# Perform he sum of the values\n",
        "\n",
        "sum_weights = weight_sack1_kg + weight_sack2_kg\n",
        "print(\"The sum of the weights is: \", round(sum_weights, 3))"
      ],
      "metadata": {
        "colab": {
          "base_uri": "https://localhost:8080/"
        },
        "id": "-wwGAnO60-D7",
        "outputId": "4f60c2f1-38ca-41ef-c66e-31307a45931a"
      },
      "execution_count": null,
      "outputs": [
        {
          "output_type": "stream",
          "name": "stdout",
          "text": [
            "The sum of the weights is:  34.019\n"
          ]
        }
      ]
    },
    {
      "cell_type": "code",
      "source": [
        "# Perform the average of the values.\n",
        "\n",
        "avg_weight = sum_weights / 2\n",
        "print(\"The average weight is: \", round(avg_weight, 3))"
      ],
      "metadata": {
        "colab": {
          "base_uri": "https://localhost:8080/"
        },
        "id": "Z4CUVrQk2Ecd",
        "outputId": "70e9585c-6cd7-43d6-8894-b3097afb286f"
      },
      "execution_count": null,
      "outputs": [
        {
          "output_type": "stream",
          "name": "stdout",
          "text": [
            "The average weight is:  17.01\n"
          ]
        }
      ]
    },
    {
      "cell_type": "code",
      "source": [
        "# Find the difference between both values.\n",
        "\n",
        "diff_weight = weight_sack1_kg - weight_sack2_kg\n",
        "print(\"The difference between the weights is: \", round(diff_weight, 3))"
      ],
      "metadata": {
        "colab": {
          "base_uri": "https://localhost:8080/"
        },
        "id": "VKbTbaY82ES2",
        "outputId": "2a85176a-d1f5-4a5b-efb6-bad0962be9fb"
      },
      "execution_count": null,
      "outputs": [
        {
          "output_type": "stream",
          "name": "stdout",
          "text": [
            "The difference between the weights is:  2.268\n"
          ]
        }
      ]
    },
    {
      "cell_type": "code",
      "source": [
        "# Find the quotient when one value is divided by the other\n",
        "\n",
        "quotient_weight = weight_sack1_kg / weight_sack2_kg\n",
        "print(\"The quotient of the weights is: \", round(quotient_weight, 3))"
      ],
      "metadata": {
        "colab": {
          "base_uri": "https://localhost:8080/"
        },
        "id": "XvnWDC2p120H",
        "outputId": "50ceb366-eef0-4c8c-d921-0529e3e46475"
      },
      "execution_count": null,
      "outputs": [
        {
          "output_type": "stream",
          "name": "stdout",
          "text": [
            "The quotient of the weights is:  1.143\n"
          ]
        }
      ]
    },
    {
      "cell_type": "code",
      "source": [
        "# Determine and print out whether any of the numbers are even or add\n",
        "if weight_sack1_kg % 2 == 0:\n",
        "  print (\"The weight of the first sack is an even number\")\n",
        "else:\n",
        "  print(\"The weight of the first sack is an odd number\")\n",
        "\n",
        "\n",
        "if weight_sack2_kg % 2 == 0:\n",
        "  print (\"The weight of the second sack is an even number\")\n",
        "else:\n",
        "  print(\"The weight of the second sack is an odd number\")"
      ],
      "metadata": {
        "colab": {
          "base_uri": "https://localhost:8080/"
        },
        "id": "5TgBhahY12hn",
        "outputId": "035948b9-cefb-45b9-c74c-8588122617c7"
      },
      "execution_count": null,
      "outputs": [
        {
          "output_type": "stream",
          "name": "stdout",
          "text": [
            "The weight of the first sack is an odd number\n",
            "The weight of the second sack is an odd number\n"
          ]
        }
      ]
    },
    {
      "cell_type": "markdown",
      "source": [
        "# PART 3: SQL PROGRAMMING"
      ],
      "metadata": {
        "id": "ONAOCcmN4cki"
      }
    },
    {
      "cell_type": "markdown",
      "source": [
        " REQUIREMENTS:\n",
        "\n",
        " 1. Display a list of Sub Counties and their population and areas.\n",
        " 2. Sort the list of districts by total crop area (descending order).\n",
        " 3. Select only the Sub counties from the Moroto district, order them alphabetically and show\n",
        " their production of sorghum.\n",
        " 4. Compute the total Maize production per District.\n",
        " 5. Compute the number of Sub counties where Maize is produced and the total Maize\n",
        " production per District.\n",
        " 6. Compute the overall Crop area in all Sub counties where population is over 20000.\n",
        " 7. Sort the Maize production in descending order by Districts, only taking into account Sub\n",
        " counties where Maize area is larger than Sorghum area, and display the number of Sub\n",
        " counties per district matching that criteria."
      ],
      "metadata": {
        "id": "kXlcmf1L4nIU"
      }
    },
    {
      "cell_type": "code",
      "source": [
        "# Display a list of Sub Counties and their population and areas\n",
        "%load_ext sql\n",
        "%sql sqlite://\n",
        "\n",
        "\n",
        "import pandas as pd\n",
        "import csv\n"
      ],
      "metadata": {
        "id": "QYhnQnfG12RF"
      },
      "execution_count": null,
      "outputs": []
    },
    {
      "cell_type": "code",
      "source": [
        "with open('Uganda_Karamoja_Subcounty_Crop_Yield_Population.csv', 'r') as f:\n",
        "  Uganda = pd.read_csv(f, index_col = 0, encoding = 'utf-8')\n",
        "\n",
        "Uganda.head(5)"
      ],
      "metadata": {
        "colab": {
          "base_uri": "https://localhost:8080/",
          "height": 275
        },
        "id": "_fzIlQNz6Hp9",
        "outputId": "97f66ec6-b02f-4cc3-eeb8-d5d8d799af4a"
      },
      "execution_count": null,
      "outputs": [
        {
          "output_type": "execute_result",
          "data": {
            "text/plain": [
              "               SUBCOUNTY_NAME DISTRICT_NAME    POP        Area Karamoja  \\\n",
              "OBJECTID                                                                  \n",
              "263                   KACHERI        KOTIDO  17244  1067176155        Y   \n",
              "264                    KOTIDO        KOTIDO  52771   597575188        Y   \n",
              "265       KOTIDO TOWN COUNCIL        KOTIDO  27389    23972401        Y   \n",
              "266              NAKAPERIMORU        KOTIDO  38775   419111591        Y   \n",
              "267                PANYANGARA        KOTIDO  65704   880955930        Y   \n",
              "\n",
              "          S_Yield_Ha   M_Yield_Ha  Crop_Area_Ha     S_Area_Ha   M_Area_Ha  \\\n",
              "OBJECTID                                                                    \n",
              "263       354.207411  1137.467019   7023.533691   6434.342449  528.124229   \n",
              "264       367.890523  1162.996687  13587.990760  12455.592640  824.767081   \n",
              "265       369.314177  1167.005832   1656.531855   1520.322052    8.561644   \n",
              "266       283.324569   852.366578   7087.823334   6761.488901   45.721712   \n",
              "267       373.836926  1283.859882  10398.249390  10111.198130  172.611914   \n",
              "\n",
              "            S_Prod_Tot     M_Prod_Tot  \n",
              "OBJECTID                               \n",
              "263       2.279092e+06  600723.892900  \n",
              "264       4.582294e+06  959201.382500  \n",
              "265       5.614765e+05    9991.488268  \n",
              "266       1.915696e+06   38971.659080  \n",
              "267       3.779939e+06  221609.511400  "
            ],
            "text/html": [
              "\n",
              "  <div id=\"df-a58deb34-1046-49b8-ac03-191147329a07\" class=\"colab-df-container\">\n",
              "    <div>\n",
              "<style scoped>\n",
              "    .dataframe tbody tr th:only-of-type {\n",
              "        vertical-align: middle;\n",
              "    }\n",
              "\n",
              "    .dataframe tbody tr th {\n",
              "        vertical-align: top;\n",
              "    }\n",
              "\n",
              "    .dataframe thead th {\n",
              "        text-align: right;\n",
              "    }\n",
              "</style>\n",
              "<table border=\"1\" class=\"dataframe\">\n",
              "  <thead>\n",
              "    <tr style=\"text-align: right;\">\n",
              "      <th></th>\n",
              "      <th>SUBCOUNTY_NAME</th>\n",
              "      <th>DISTRICT_NAME</th>\n",
              "      <th>POP</th>\n",
              "      <th>Area</th>\n",
              "      <th>Karamoja</th>\n",
              "      <th>S_Yield_Ha</th>\n",
              "      <th>M_Yield_Ha</th>\n",
              "      <th>Crop_Area_Ha</th>\n",
              "      <th>S_Area_Ha</th>\n",
              "      <th>M_Area_Ha</th>\n",
              "      <th>S_Prod_Tot</th>\n",
              "      <th>M_Prod_Tot</th>\n",
              "    </tr>\n",
              "    <tr>\n",
              "      <th>OBJECTID</th>\n",
              "      <th></th>\n",
              "      <th></th>\n",
              "      <th></th>\n",
              "      <th></th>\n",
              "      <th></th>\n",
              "      <th></th>\n",
              "      <th></th>\n",
              "      <th></th>\n",
              "      <th></th>\n",
              "      <th></th>\n",
              "      <th></th>\n",
              "      <th></th>\n",
              "    </tr>\n",
              "  </thead>\n",
              "  <tbody>\n",
              "    <tr>\n",
              "      <th>263</th>\n",
              "      <td>KACHERI</td>\n",
              "      <td>KOTIDO</td>\n",
              "      <td>17244</td>\n",
              "      <td>1067176155</td>\n",
              "      <td>Y</td>\n",
              "      <td>354.207411</td>\n",
              "      <td>1137.467019</td>\n",
              "      <td>7023.533691</td>\n",
              "      <td>6434.342449</td>\n",
              "      <td>528.124229</td>\n",
              "      <td>2.279092e+06</td>\n",
              "      <td>600723.892900</td>\n",
              "    </tr>\n",
              "    <tr>\n",
              "      <th>264</th>\n",
              "      <td>KOTIDO</td>\n",
              "      <td>KOTIDO</td>\n",
              "      <td>52771</td>\n",
              "      <td>597575188</td>\n",
              "      <td>Y</td>\n",
              "      <td>367.890523</td>\n",
              "      <td>1162.996687</td>\n",
              "      <td>13587.990760</td>\n",
              "      <td>12455.592640</td>\n",
              "      <td>824.767081</td>\n",
              "      <td>4.582294e+06</td>\n",
              "      <td>959201.382500</td>\n",
              "    </tr>\n",
              "    <tr>\n",
              "      <th>265</th>\n",
              "      <td>KOTIDO TOWN COUNCIL</td>\n",
              "      <td>KOTIDO</td>\n",
              "      <td>27389</td>\n",
              "      <td>23972401</td>\n",
              "      <td>Y</td>\n",
              "      <td>369.314177</td>\n",
              "      <td>1167.005832</td>\n",
              "      <td>1656.531855</td>\n",
              "      <td>1520.322052</td>\n",
              "      <td>8.561644</td>\n",
              "      <td>5.614765e+05</td>\n",
              "      <td>9991.488268</td>\n",
              "    </tr>\n",
              "    <tr>\n",
              "      <th>266</th>\n",
              "      <td>NAKAPERIMORU</td>\n",
              "      <td>KOTIDO</td>\n",
              "      <td>38775</td>\n",
              "      <td>419111591</td>\n",
              "      <td>Y</td>\n",
              "      <td>283.324569</td>\n",
              "      <td>852.366578</td>\n",
              "      <td>7087.823334</td>\n",
              "      <td>6761.488901</td>\n",
              "      <td>45.721712</td>\n",
              "      <td>1.915696e+06</td>\n",
              "      <td>38971.659080</td>\n",
              "    </tr>\n",
              "    <tr>\n",
              "      <th>267</th>\n",
              "      <td>PANYANGARA</td>\n",
              "      <td>KOTIDO</td>\n",
              "      <td>65704</td>\n",
              "      <td>880955930</td>\n",
              "      <td>Y</td>\n",
              "      <td>373.836926</td>\n",
              "      <td>1283.859882</td>\n",
              "      <td>10398.249390</td>\n",
              "      <td>10111.198130</td>\n",
              "      <td>172.611914</td>\n",
              "      <td>3.779939e+06</td>\n",
              "      <td>221609.511400</td>\n",
              "    </tr>\n",
              "  </tbody>\n",
              "</table>\n",
              "</div>\n",
              "    <div class=\"colab-df-buttons\">\n",
              "\n",
              "  <div class=\"colab-df-container\">\n",
              "    <button class=\"colab-df-convert\" onclick=\"convertToInteractive('df-a58deb34-1046-49b8-ac03-191147329a07')\"\n",
              "            title=\"Convert this dataframe to an interactive table.\"\n",
              "            style=\"display:none;\">\n",
              "\n",
              "  <svg xmlns=\"http://www.w3.org/2000/svg\" height=\"24px\" viewBox=\"0 -960 960 960\">\n",
              "    <path d=\"M120-120v-720h720v720H120Zm60-500h600v-160H180v160Zm220 220h160v-160H400v160Zm0 220h160v-160H400v160ZM180-400h160v-160H180v160Zm440 0h160v-160H620v160ZM180-180h160v-160H180v160Zm440 0h160v-160H620v160Z\"/>\n",
              "  </svg>\n",
              "    </button>\n",
              "\n",
              "  <style>\n",
              "    .colab-df-container {\n",
              "      display:flex;\n",
              "      gap: 12px;\n",
              "    }\n",
              "\n",
              "    .colab-df-convert {\n",
              "      background-color: #E8F0FE;\n",
              "      border: none;\n",
              "      border-radius: 50%;\n",
              "      cursor: pointer;\n",
              "      display: none;\n",
              "      fill: #1967D2;\n",
              "      height: 32px;\n",
              "      padding: 0 0 0 0;\n",
              "      width: 32px;\n",
              "    }\n",
              "\n",
              "    .colab-df-convert:hover {\n",
              "      background-color: #E2EBFA;\n",
              "      box-shadow: 0px 1px 2px rgba(60, 64, 67, 0.3), 0px 1px 3px 1px rgba(60, 64, 67, 0.15);\n",
              "      fill: #174EA6;\n",
              "    }\n",
              "\n",
              "    .colab-df-buttons div {\n",
              "      margin-bottom: 4px;\n",
              "    }\n",
              "\n",
              "    [theme=dark] .colab-df-convert {\n",
              "      background-color: #3B4455;\n",
              "      fill: #D2E3FC;\n",
              "    }\n",
              "\n",
              "    [theme=dark] .colab-df-convert:hover {\n",
              "      background-color: #434B5C;\n",
              "      box-shadow: 0px 1px 3px 1px rgba(0, 0, 0, 0.15);\n",
              "      filter: drop-shadow(0px 1px 2px rgba(0, 0, 0, 0.3));\n",
              "      fill: #FFFFFF;\n",
              "    }\n",
              "  </style>\n",
              "\n",
              "    <script>\n",
              "      const buttonEl =\n",
              "        document.querySelector('#df-a58deb34-1046-49b8-ac03-191147329a07 button.colab-df-convert');\n",
              "      buttonEl.style.display =\n",
              "        google.colab.kernel.accessAllowed ? 'block' : 'none';\n",
              "\n",
              "      async function convertToInteractive(key) {\n",
              "        const element = document.querySelector('#df-a58deb34-1046-49b8-ac03-191147329a07');\n",
              "        const dataTable =\n",
              "          await google.colab.kernel.invokeFunction('convertToInteractive',\n",
              "                                                    [key], {});\n",
              "        if (!dataTable) return;\n",
              "\n",
              "        const docLinkHtml = 'Like what you see? Visit the ' +\n",
              "          '<a target=\"_blank\" href=https://colab.research.google.com/notebooks/data_table.ipynb>data table notebook</a>'\n",
              "          + ' to learn more about interactive tables.';\n",
              "        element.innerHTML = '';\n",
              "        dataTable['output_type'] = 'display_data';\n",
              "        await google.colab.output.renderOutput(dataTable, element);\n",
              "        const docLink = document.createElement('div');\n",
              "        docLink.innerHTML = docLinkHtml;\n",
              "        element.appendChild(docLink);\n",
              "      }\n",
              "    </script>\n",
              "  </div>\n",
              "\n",
              "\n",
              "    <div id=\"df-366cc96c-9f59-4c60-a80f-1c57332d3b70\">\n",
              "      <button class=\"colab-df-quickchart\" onclick=\"quickchart('df-366cc96c-9f59-4c60-a80f-1c57332d3b70')\"\n",
              "                title=\"Suggest charts\"\n",
              "                style=\"display:none;\">\n",
              "\n",
              "<svg xmlns=\"http://www.w3.org/2000/svg\" height=\"24px\"viewBox=\"0 0 24 24\"\n",
              "     width=\"24px\">\n",
              "    <g>\n",
              "        <path d=\"M19 3H5c-1.1 0-2 .9-2 2v14c0 1.1.9 2 2 2h14c1.1 0 2-.9 2-2V5c0-1.1-.9-2-2-2zM9 17H7v-7h2v7zm4 0h-2V7h2v10zm4 0h-2v-4h2v4z\"/>\n",
              "    </g>\n",
              "</svg>\n",
              "      </button>\n",
              "\n",
              "<style>\n",
              "  .colab-df-quickchart {\n",
              "      --bg-color: #E8F0FE;\n",
              "      --fill-color: #1967D2;\n",
              "      --hover-bg-color: #E2EBFA;\n",
              "      --hover-fill-color: #174EA6;\n",
              "      --disabled-fill-color: #AAA;\n",
              "      --disabled-bg-color: #DDD;\n",
              "  }\n",
              "\n",
              "  [theme=dark] .colab-df-quickchart {\n",
              "      --bg-color: #3B4455;\n",
              "      --fill-color: #D2E3FC;\n",
              "      --hover-bg-color: #434B5C;\n",
              "      --hover-fill-color: #FFFFFF;\n",
              "      --disabled-bg-color: #3B4455;\n",
              "      --disabled-fill-color: #666;\n",
              "  }\n",
              "\n",
              "  .colab-df-quickchart {\n",
              "    background-color: var(--bg-color);\n",
              "    border: none;\n",
              "    border-radius: 50%;\n",
              "    cursor: pointer;\n",
              "    display: none;\n",
              "    fill: var(--fill-color);\n",
              "    height: 32px;\n",
              "    padding: 0;\n",
              "    width: 32px;\n",
              "  }\n",
              "\n",
              "  .colab-df-quickchart:hover {\n",
              "    background-color: var(--hover-bg-color);\n",
              "    box-shadow: 0 1px 2px rgba(60, 64, 67, 0.3), 0 1px 3px 1px rgba(60, 64, 67, 0.15);\n",
              "    fill: var(--button-hover-fill-color);\n",
              "  }\n",
              "\n",
              "  .colab-df-quickchart-complete:disabled,\n",
              "  .colab-df-quickchart-complete:disabled:hover {\n",
              "    background-color: var(--disabled-bg-color);\n",
              "    fill: var(--disabled-fill-color);\n",
              "    box-shadow: none;\n",
              "  }\n",
              "\n",
              "  .colab-df-spinner {\n",
              "    border: 2px solid var(--fill-color);\n",
              "    border-color: transparent;\n",
              "    border-bottom-color: var(--fill-color);\n",
              "    animation:\n",
              "      spin 1s steps(1) infinite;\n",
              "  }\n",
              "\n",
              "  @keyframes spin {\n",
              "    0% {\n",
              "      border-color: transparent;\n",
              "      border-bottom-color: var(--fill-color);\n",
              "      border-left-color: var(--fill-color);\n",
              "    }\n",
              "    20% {\n",
              "      border-color: transparent;\n",
              "      border-left-color: var(--fill-color);\n",
              "      border-top-color: var(--fill-color);\n",
              "    }\n",
              "    30% {\n",
              "      border-color: transparent;\n",
              "      border-left-color: var(--fill-color);\n",
              "      border-top-color: var(--fill-color);\n",
              "      border-right-color: var(--fill-color);\n",
              "    }\n",
              "    40% {\n",
              "      border-color: transparent;\n",
              "      border-right-color: var(--fill-color);\n",
              "      border-top-color: var(--fill-color);\n",
              "    }\n",
              "    60% {\n",
              "      border-color: transparent;\n",
              "      border-right-color: var(--fill-color);\n",
              "    }\n",
              "    80% {\n",
              "      border-color: transparent;\n",
              "      border-right-color: var(--fill-color);\n",
              "      border-bottom-color: var(--fill-color);\n",
              "    }\n",
              "    90% {\n",
              "      border-color: transparent;\n",
              "      border-bottom-color: var(--fill-color);\n",
              "    }\n",
              "  }\n",
              "</style>\n",
              "\n",
              "      <script>\n",
              "        async function quickchart(key) {\n",
              "          const quickchartButtonEl =\n",
              "            document.querySelector('#' + key + ' button');\n",
              "          quickchartButtonEl.disabled = true;  // To prevent multiple clicks.\n",
              "          quickchartButtonEl.classList.add('colab-df-spinner');\n",
              "          try {\n",
              "            const charts = await google.colab.kernel.invokeFunction(\n",
              "                'suggestCharts', [key], {});\n",
              "          } catch (error) {\n",
              "            console.error('Error during call to suggestCharts:', error);\n",
              "          }\n",
              "          quickchartButtonEl.classList.remove('colab-df-spinner');\n",
              "          quickchartButtonEl.classList.add('colab-df-quickchart-complete');\n",
              "        }\n",
              "        (() => {\n",
              "          let quickchartButtonEl =\n",
              "            document.querySelector('#df-366cc96c-9f59-4c60-a80f-1c57332d3b70 button');\n",
              "          quickchartButtonEl.style.display =\n",
              "            google.colab.kernel.accessAllowed ? 'block' : 'none';\n",
              "        })();\n",
              "      </script>\n",
              "    </div>\n",
              "\n",
              "    </div>\n",
              "  </div>\n"
            ],
            "application/vnd.google.colaboratory.intrinsic+json": {
              "type": "dataframe",
              "variable_name": "Uganda",
              "summary": "{\n  \"name\": \"Uganda\",\n  \"rows\": 52,\n  \"fields\": [\n    {\n      \"column\": \"OBJECTID\",\n      \"properties\": {\n        \"dtype\": \"number\",\n        \"std\": 280,\n        \"min\": 263,\n        \"max\": 1320,\n        \"num_unique_values\": 52,\n        \"samples\": [\n          604,\n          1023,\n          1029\n        ],\n        \"semantic_type\": \"\",\n        \"description\": \"\"\n      }\n    },\n    {\n      \"column\": \"SUBCOUNTY_NAME\",\n      \"properties\": {\n        \"dtype\": \"string\",\n        \"num_unique_values\": 52,\n        \"samples\": [\n          \"SIDOK\",\n          \"IRIIRI\",\n          \"NGOLERIET\"\n        ],\n        \"semantic_type\": \"\",\n        \"description\": \"\"\n      }\n    },\n    {\n      \"column\": \"DISTRICT_NAME\",\n      \"properties\": {\n        \"dtype\": \"category\",\n        \"num_unique_values\": 7,\n        \"samples\": [\n          \"KOTIDO\",\n          \"KAABONG\",\n          \"NAKAPIRIPIRIT\"\n        ],\n        \"semantic_type\": \"\",\n        \"description\": \"\"\n      }\n    },\n    {\n      \"column\": \"POP\",\n      \"properties\": {\n        \"dtype\": \"number\",\n        \"std\": 20865,\n        \"min\": 1418,\n        \"max\": 100919,\n        \"num_unique_values\": 52,\n        \"samples\": [\n          24092,\n          46979,\n          20790\n        ],\n        \"semantic_type\": \"\",\n        \"description\": \"\"\n      }\n    },\n    {\n      \"column\": \"Area\",\n      \"properties\": {\n        \"dtype\": \"number\",\n        \"std\": 491330849,\n        \"min\": 2121209,\n        \"max\": 2069554899,\n        \"num_unique_values\": 52,\n        \"samples\": [\n          125330583,\n          1030623258,\n          158887552\n        ],\n        \"semantic_type\": \"\",\n        \"description\": \"\"\n      }\n    },\n    {\n      \"column\": \"Karamoja\",\n      \"properties\": {\n        \"dtype\": \"category\",\n        \"num_unique_values\": 1,\n        \"samples\": [\n          \"Y\"\n        ],\n        \"semantic_type\": \"\",\n        \"description\": \"\"\n      }\n    },\n    {\n      \"column\": \"S_Yield_Ha\",\n      \"properties\": {\n        \"dtype\": \"number\",\n        \"std\": 118.56990673395282,\n        \"min\": 108.1564114,\n        \"max\": 560.3130703,\n        \"num_unique_values\": 52,\n        \"samples\": [\n          285.3362943\n        ],\n        \"semantic_type\": \"\",\n        \"description\": \"\"\n      }\n    },\n    {\n      \"column\": \"M_Yield_Ha\",\n      \"properties\": {\n        \"dtype\": \"number\",\n        \"std\": 321.6419012308184,\n        \"min\": 0.0,\n        \"max\": 1396.991494,\n        \"num_unique_values\": 52,\n        \"samples\": [\n          1396.991494\n        ],\n        \"semantic_type\": \"\",\n        \"description\": \"\"\n      }\n    },\n    {\n      \"column\": \"Crop_Area_Ha\",\n      \"properties\": {\n        \"dtype\": \"number\",\n        \"std\": 3110.505916547499,\n        \"min\": 0.171390461,\n        \"max\": 13587.99076,\n        \"num_unique_values\": 52,\n        \"samples\": [\n          957.4939458\n        ],\n        \"semantic_type\": \"\",\n        \"description\": \"\"\n      }\n    },\n    {\n      \"column\": \"S_Area_Ha\",\n      \"properties\": {\n        \"dtype\": \"number\",\n        \"std\": 2954.3558576323685,\n        \"min\": 0.130940756,\n        \"max\": 12964.49973,\n        \"num_unique_values\": 52,\n        \"samples\": [\n          859.6490275\n        ],\n        \"semantic_type\": \"\",\n        \"description\": \"\"\n      }\n    },\n    {\n      \"column\": \"M_Area_Ha\",\n      \"properties\": {\n        \"dtype\": \"number\",\n        \"std\": 724.0922880324313,\n        \"min\": 0.0,\n        \"max\": 3840.698081,\n        \"num_unique_values\": 52,\n        \"samples\": [\n          97.5422428\n        ],\n        \"semantic_type\": \"\",\n        \"description\": \"\"\n      }\n    },\n    {\n      \"column\": \"S_Prod_Tot\",\n      \"properties\": {\n        \"dtype\": \"number\",\n        \"std\": 991583.938327316,\n        \"min\": 17.28125956,\n        \"max\": 4582294.492,\n        \"num_unique_values\": 52,\n        \"samples\": [\n          245289.0679\n        ],\n        \"semantic_type\": \"\",\n        \"description\": \"\"\n      }\n    },\n    {\n      \"column\": \"M_Prod_Tot\",\n      \"properties\": {\n        \"dtype\": \"number\",\n        \"std\": 793970.6681566153,\n        \"min\": 0.0,\n        \"max\": 4365057.517,\n        \"num_unique_values\": 52,\n        \"samples\": [\n          136265.6835\n        ],\n        \"semantic_type\": \"\",\n        \"description\": \"\"\n      }\n    }\n  ]\n}"
            }
          },
          "metadata": {},
          "execution_count": 43
        }
      ]
    },
    {
      "cell_type": "code",
      "source": [
        "%%sql\n",
        "SELECT 'SUBCOUNTY_NAME', POP, Area FROM Uganda\n",
        "\n",
        "Uganda"
      ],
      "metadata": {
        "colab": {
          "base_uri": "https://localhost:8080/"
        },
        "id": "Avgy9Dm68Mu8",
        "outputId": "f085a3f8-2cc5-4c4d-c5b9-c22814ec2f5d"
      },
      "execution_count": null,
      "outputs": [
        {
          "output_type": "stream",
          "name": "stdout",
          "text": [
            " * sqlite://\n",
            "(sqlite3.OperationalError) no such table: Uganda\n",
            "[SQL: SELECT 'SUBCOUNTY_NAME', POP, Area FROM Uganda\n",
            "\n",
            "Uganda]\n",
            "(Background on this error at: https://sqlalche.me/e/20/e3q8)\n"
          ]
        }
      ]
    },
    {
      "cell_type": "code",
      "source": [
        "# Sort the list of districts by total crop area (descending order)\n",
        "%%sql\n",
        "SELECT 'DISTRICT_NAME' FROM Uganda\n",
        "ORDER BY Crop_Area_Ha DESC"
      ],
      "metadata": {
        "colab": {
          "base_uri": "https://localhost:8080/"
        },
        "id": "X1K-3Jqf8ORN",
        "outputId": "c461e72f-51ef-41a6-d483-41638a7ab410"
      },
      "execution_count": null,
      "outputs": [
        {
          "output_type": "stream",
          "name": "stdout",
          "text": [
            " * sqlite://\n",
            "(sqlite3.OperationalError) no such table: Uganda\n",
            "[SQL: SELECT 'DISTRICT_NAME' FROM Uganda\n",
            "ORDER BY Crop_Area_Ha DESC]\n",
            "(Background on this error at: https://sqlalche.me/e/20/e3q8)\n"
          ]
        }
      ]
    },
    {
      "cell_type": "code",
      "source": [
        "# Select only the Sub counties from the Moroto district, order them alphabetically and show their production of sorghum\n",
        "\n",
        "%%sql\n",
        "SELECT 'SUBCOUNTY_NAME', 'S_Prod_Tot' FROM Uganda\n",
        "WHERE 'DISTRICT_NAME' = 'Moroto'\n",
        "ORDER BY 'SUBCOUNTY_NAME' ASC"
      ],
      "metadata": {
        "colab": {
          "base_uri": "https://localhost:8080/"
        },
        "id": "ASBPOs9m-Qtv",
        "outputId": "c8941230-dd99-49ce-891d-f63490cfc57c"
      },
      "execution_count": null,
      "outputs": [
        {
          "output_type": "stream",
          "name": "stdout",
          "text": [
            " * sqlite://\n",
            "(sqlite3.OperationalError) no such table: Uganda\n",
            "[SQL: SELECT 'SUBCOUNTY_NAME', 'S_Prod_Tot' FROM Uganda\n",
            "WHERE 'DISTRICT_NAME' = 'Moroto'\n",
            "ORDER BY 'SUBCOUNTY_NAME' ASC]\n",
            "(Background on this error at: https://sqlalche.me/e/20/e3q8)\n"
          ]
        }
      ]
    },
    {
      "cell_type": "code",
      "source": [
        "# Compute the total Maize production per District\n",
        "%%sql\n",
        "\n",
        "SELECT 'DISTRICT_NAME', 'M_Prod_Tot' FROM Uganda\n",
        "GROUP BY 'DISTRICT_NAME'\n"
      ],
      "metadata": {
        "colab": {
          "base_uri": "https://localhost:8080/"
        },
        "id": "L2ovu6eb_IVv",
        "outputId": "5a04f878-358a-454b-cd8e-873eb8abf8fa"
      },
      "execution_count": null,
      "outputs": [
        {
          "output_type": "stream",
          "name": "stdout",
          "text": [
            " * sqlite://\n",
            "(sqlite3.OperationalError) no such table: Uganda\n",
            "[SQL: SELECT 'DISTRICT_NAME', 'M_Prod_Tot' FROM Uganda\n",
            "GROUP BY 'DISTRICT_NAME']\n",
            "(Background on this error at: https://sqlalche.me/e/20/e3q8)\n"
          ]
        }
      ]
    },
    {
      "cell_type": "code",
      "source": [
        "# Compute the number of Sub counties where Maize is produced and the total Maize production per District\n",
        "\n",
        "%%sql\n",
        "\n",
        "SELECT COUNT ('SUBCOUNTY_NAME'), 'M_Prod_Tot' FROM Uganda\n",
        "WHERE 'M_Prod_Tot' > 0\n",
        "GROUP BY 'DISTRICT_NAME'"
      ],
      "metadata": {
        "colab": {
          "base_uri": "https://localhost:8080/"
        },
        "id": "btU-6GqE_zyc",
        "outputId": "551fc7e0-77de-4bf6-b813-0d195218a67f"
      },
      "execution_count": null,
      "outputs": [
        {
          "output_type": "stream",
          "name": "stdout",
          "text": [
            " * sqlite://\n",
            "(sqlite3.OperationalError) no such table: Uganda\n",
            "[SQL: SELECT COUNT ('SUBCOUNTY_NAME'), 'M_Prod_Tot' FROM Uganda\n",
            "WHERE 'M_Prod_Tot' > 0\n",
            "GROUP BY 'DISTRICT_NAME']\n",
            "(Background on this error at: https://sqlalche.me/e/20/e3q8)\n"
          ]
        }
      ]
    },
    {
      "cell_type": "code",
      "source": [
        "# Compute the overall Crop area in all Sub counties where population is over 20000\n",
        "\n",
        "%%sql\n",
        "\n",
        "SELECT SUM('Crop_Area_Ha') FROM Uganda\n",
        "WHERE 'POP' > 20000"
      ],
      "metadata": {
        "colab": {
          "base_uri": "https://localhost:8080/"
        },
        "id": "mSryZjpF_-4c",
        "outputId": "0956cb87-efe1-46d1-8b95-4174b0b79322"
      },
      "execution_count": null,
      "outputs": [
        {
          "output_type": "stream",
          "name": "stdout",
          "text": [
            " * sqlite://\n",
            "(sqlite3.OperationalError) no such table: Uganda\n",
            "[SQL: SELECT SUM('Crop_Area_Ha') FROM Uganda\n",
            "WHERE 'POP' > 20000]\n",
            "(Background on this error at: https://sqlalche.me/e/20/e3q8)\n"
          ]
        }
      ]
    },
    {
      "cell_type": "code",
      "source": [
        "# Sort the Maize production in descending order by Districts, only taking into account Sub counties where Maize area is larger than Sorghum area, and display the number of Sub counties per district matching that criteria\n",
        "\n",
        " %%sql\n",
        "\n",
        "SELECT COUNT('SUBCOUNTY_NAME'), 'DISTRICT_NAME' FROM Uganda\n",
        "WHERE 'M_Area_Ha' > 'S_Area_Ha'\n",
        "GROUP BY 'DISTRICT_NAME'\n",
        "ORDER BY 'M_Prod_Tot' DESC"
      ],
      "metadata": {
        "colab": {
          "base_uri": "https://localhost:8080/"
        },
        "id": "U2Fk_KZo_-sR",
        "outputId": "2cc816d7-9dfb-4aa6-8501-24133861a29f"
      },
      "execution_count": null,
      "outputs": [
        {
          "output_type": "stream",
          "name": "stdout",
          "text": [
            " * sqlite://\n",
            "(sqlite3.OperationalError) no such table: Uganda\n",
            "[SQL: SELECT COUNT('SUBCOUNTY_NAME'), 'DISTRICT_NAME' FROM Uganda\n",
            "WHERE 'M_Area_Ha' > 'S_Area_Ha'\n",
            "GROUP BY 'DISTRICT_NAME'\n",
            "ORDER BY 'M_Prod_Tot' DESC]\n",
            "(Background on this error at: https://sqlalche.me/e/20/e3q8)\n"
          ]
        }
      ]
    },
    {
      "cell_type": "code",
      "source": [],
      "metadata": {
        "id": "zpe16ZmPBcA5"
      },
      "execution_count": null,
      "outputs": []
    }
  ]
}